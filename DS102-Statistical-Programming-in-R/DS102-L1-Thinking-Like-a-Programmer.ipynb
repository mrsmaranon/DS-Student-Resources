{
 "cells": [
  {
   "cell_type": "markdown",
   "id": "50e6ddbb-52d3-4a02-9b69-100a4181e3b0",
   "metadata": {},
   "source": [
    "# DS102 Statistical Programming in R : Lesson One - Thinking Like a Programmer\n",
    "\n",
    "## Thinking Like a Programmer"
   ]
  },
  {
   "cell_type": "code",
   "execution_count": 1,
   "id": "e51a00a5-b92d-4e4d-a9ed-bac10fe31622",
   "metadata": {},
   "outputs": [
    {
     "data": {
      "text/html": [
       "\n",
       "        <iframe\n",
       "            width=\"720\"\n",
       "            height=\"480\"\n",
       "            src=\"https://player.vimeo.com/video/234929904\"\n",
       "            frameborder=\"0\"\n",
       "            allowfullscreen\n",
       "            \n",
       "        ></iframe>\n",
       "        "
      ],
      "text/plain": [
       "<IPython.lib.display.VimeoVideo at 0x14af94c10>"
      ]
     },
     "execution_count": 1,
     "metadata": {},
     "output_type": "execute_result"
    }
   ],
   "source": [
    "from IPython.display import VimeoVideo\n",
    "# Tutorial Video Name: Lesson One\n",
    "VimeoVideo('234929904', width=720, height=480)"
   ]
  },
  {
   "cell_type": "markdown",
   "id": "d1bd4bfc-9b15-4b80-87b4-b8b60eb56371",
   "metadata": {},
   "source": [
    "### Table of Contents <a class=\"anchor\" id=\"DS102L1_toc\"></a>\n",
    "\n",
    "* [Table of Contents](#DS102L1_toc)\n",
    "    * [Page 1 - Welcome](#DS102L1_page_1)\n",
    "    * [Page 2 - Think like a Data Scientist](#DS102L1_page_2)\n",
    "    * [Page 3 - Conversion](#DS102L1_page_3)\n",
    "    * [Page 4 - Peanut Butter and Jelly Time](#DS102L1_page_4)\n",
    "    * [Page 5 - PBJ Instructions Check](#DS102L1_page_5)\n",
    "    * [Page 6 - Breaking Down Problems](#DS102L1_page_6)\n",
    "    * [Page 7 - Breaking Down Problems Review](#DS102L1_page_7)\n",
    "    * [Page 8 - Mistakes are INEVITABLE](#DS102L1_page_8)\n",
    "    * [Page 9 - Imposter Syndrome](#DS102L1_page_9)\n",
    "    * [Page 10 - Key Terms](#DS102L1_page_10)\n",
    "    * [Page 11 - Lesson 1 Hands-On](#DS102L1_page_11)\n",
    "    "
   ]
  },
  {
   "cell_type": "markdown",
   "id": "ef5a8c65-ed48-4354-a257-e01b0fd733d4",
   "metadata": {},
   "source": [
    "<hr style=\"height:10px;border-width:0;color:gray;background-color:gray\">\n",
    "\n",
    "# Page 1 - Welcome <a class=\"anchor\" id=\"DS102L1_page_1\"></a>\n",
    "\n",
    "[Back to Top](#DS102L1_toc)\n",
    "\n",
    "<hr style=\"height:10px;border-width:0;color:gray;background-color:gray\">"
   ]
  },
  {
   "cell_type": "markdown",
   "id": "5b6ad526-95fa-43c4-bc43-1fe807708ed3",
   "metadata": {},
   "source": [
    "## Welcome\n",
    "\n",
    "Congratulations! You are on the brink of learning your very first programming language! You will be learning a lot as you go through the lessons. It will be hard work, but know that you can do it! Follow along and when you get stuck, keep in mind that there are several great public resources available to you like **<a href=\"https://stackoverflow.com/\" target=\"_blank\">StackOverflow</a>**, **<a href=\"https://www.w3schools.com/\" target=\"_blank\">W3Schools</a>**, or a crowd favorite, **<a href=\"https://www.google.com\" target=\"_blank\">Google</a>**.  \n",
    "\n",
    "> _\"Your first projects aren't the greatest things in the world, and they may have no money value, they may go nowhere, but that is how you learn - you put so much effort into making something right if it is for yourself.\"_\n",
    ">\n",
    "> **- Steve Wozniak**\n",
    "\n",
    "In this lesson, you will learn about: \n",
    "\n",
    "* Breaking problems down into simple steps\n",
    "* Providing instructions in simple steps\n",
    "* The value of mistakes\n",
    "* Imposter syndrome\n",
    "\n",
    "This lesson will culminate in a hands on that will require you think like a programmer to solve the logical puzzle."
   ]
  },
  {
   "cell_type": "code",
   "execution_count": 2,
   "id": "fc516e60-51e6-4b74-ad36-1345e886fcd8",
   "metadata": {},
   "outputs": [
    {
     "data": {
      "text/html": [
       "\n",
       "        <iframe\n",
       "            width=\"720\"\n",
       "            height=\"480\"\n",
       "            src=\"https://player.vimeo.com/video/407763686\"\n",
       "            frameborder=\"0\"\n",
       "            allowfullscreen\n",
       "            \n",
       "        ></iframe>\n",
       "        "
      ],
      "text/plain": [
       "<IPython.lib.display.VimeoVideo at 0x107ac24c0>"
      ]
     },
     "execution_count": 2,
     "metadata": {},
     "output_type": "execute_result"
    }
   ],
   "source": [
    "from IPython.display import VimeoVideo\n",
    "# Tutorial Video Name: Problem Solving and Critical Thinking\n",
    "VimeoVideo('407763686', width=720, height=480)"
   ]
  },
  {
   "cell_type": "markdown",
   "id": "7990ac7a-5a2f-4744-af14-1b7e385ea484",
   "metadata": {},
   "source": [
    "<hr style=\"height:10px;border-width:0;color:gray;background-color:gray\">\n",
    "\n",
    "# Page 2 - Think like a Data Scientist<a class=\"anchor\" id=\"DS102L1_page_2\"></a>\n",
    "\n",
    "[Back to Top](#DS102L1_toc)\n",
    "\n",
    "<hr style=\"height:10px;border-width:0;color:gray;background-color:gray\">\n"
   ]
  },
  {
   "cell_type": "code",
   "execution_count": 3,
   "id": "fcae6489-d3ff-4cbd-b4fc-14a5a2538f3b",
   "metadata": {},
   "outputs": [
    {
     "data": {
      "text/html": [
       "\n",
       "        <iframe\n",
       "            width=\"720\"\n",
       "            height=\"480\"\n",
       "            src=\"https://player.vimeo.com/video/325919813\"\n",
       "            frameborder=\"0\"\n",
       "            allowfullscreen\n",
       "            \n",
       "        ></iframe>\n",
       "        "
      ],
      "text/plain": [
       "<IPython.lib.display.VimeoVideo at 0x107ac2040>"
      ]
     },
     "execution_count": 3,
     "metadata": {},
     "output_type": "execute_result"
    }
   ],
   "source": [
    "from IPython.display import VimeoVideo\n",
    "# Tutorial Video Name: Thinking like a data scientist\n",
    "VimeoVideo('325919813', width=720, height=480)"
   ]
  },
  {
   "cell_type": "markdown",
   "id": "d0b64087-3136-4bb2-b7fd-01cd525e173b",
   "metadata": {},
   "source": [
    "The transcript for the above topic tutorial video **[is located here](https://repo.exeterlms.com/documents/V2/DataScience/Video-Transcripts/DSO102-L01-pg2tutorial.zip)**.\n",
    "\n",
    "The biggest issue new students run into is how to adjust their thinking to a style that is necessary for data science. Even as computers become more advanced, they continue to be very good at doing exactly what you tell them to do &mdash; even if it makes no sense at all. This means that you must become very good at saying precisely what you want the computer to do. This seems easy enough at first &ndash; after all, you communicate with other people all the time &ndash; but it is notoriously difficult to get right early on. Other people are capable of understanding your intent, adding context, and asking for clarification when they do not understand. Computers do none of this. At best, computers give an error when they do not understand and at worst they will carry out an instruction that you did not intend. This leads to problems with your program, crashes, or even data loss. The process of learning to think like a programmer is part learning to be very specific and part learning how to deal with seemingly impossibly-large problems. You'll go into both of these throughout this lesson.\n",
    "\n",
    "---\n",
    "\n",
    "## How To Eat An Elephant\n",
    "\n",
    "There's an old joke, `\"How do you eat an elephant?\"` which seems absurd at first. Eating an elephant is not something that any human is going to be able to do. The punchline: `one bite at a time` while corny, does have an element of truth to it. Given enough time and small enough bites, you probably _could_ eat an elephant. So it is with large problems, both in programming and elsewhere. Doing a large report, cooking a three course meal for 20 guests, and using machine learning are all impossible to do in one step. They must be broken down into smaller pieces until you are left with a pile of achievable tasks."
   ]
  },
  {
   "cell_type": "markdown",
   "id": "832358fd-55fa-420a-8aa2-46fbf2097986",
   "metadata": {},
   "source": [
    "<hr style=\"height:10px;border-width:0;color:gray;background-color:gray\">\n",
    "\n",
    "# Page 3 - Conversion<a class=\"anchor\" id=\"DS102L1_page_3\"></a>\n",
    "\n",
    "[Back to Top](#DS102L1_toc)\n",
    "\n",
    "<hr style=\"height:10px;border-width:0;color:gray;background-color:gray\">\n"
   ]
  },
  {
   "cell_type": "code",
   "execution_count": 4,
   "id": "edb79086-1c92-4480-8676-b94a7294e9e4",
   "metadata": {},
   "outputs": [
    {
     "data": {
      "text/html": [
       "\n",
       "        <iframe\n",
       "            width=\"720\"\n",
       "            height=\"480\"\n",
       "            src=\"https://player.vimeo.com/video/325919753\"\n",
       "            frameborder=\"0\"\n",
       "            allowfullscreen\n",
       "            \n",
       "        ></iframe>\n",
       "        "
      ],
      "text/plain": [
       "<IPython.lib.display.VimeoVideo at 0x107ac2070>"
      ]
     },
     "execution_count": 4,
     "metadata": {},
     "output_type": "execute_result"
    }
   ],
   "source": [
    "from IPython.display import VimeoVideo\n",
    "# Tutorial Video Name: Conversion\n",
    "VimeoVideo('325919753', width=720, height=480)"
   ]
  },
  {
   "cell_type": "markdown",
   "id": "f6702287-152d-4e42-a607-a0491c6d5cb1",
   "metadata": {},
   "source": [
    "The transcript for the above topic tutorial video **[is located here](https://repo.exeterlms.com/documents/V2/DataScience/Video-Transcripts/DSO102-L01-pg3tutorial.zip)**.\n",
    "\n",
    "# Conversion\n",
    "\n",
    "One example of the kind of thinking that programming and data science requires is conversions. For example, if you have 87 inches of ribbon, and you want to wrap it around a gift box that measures 4 feet around, would you have enough ribbon?\n",
    "\n",
    "The solution requires a few steps:\n",
    "\n",
    "1. Determine how many inches there are in a foot.\n",
    "2. Multiply the box circumference (in feet) by the number of inches per foot to get the total number of inches of ribbon needed to wrap the box.\n",
    "3. Determine whether the result of #2 is less than or equal to the number of inches of available ribbon.\n",
    "\n",
    "Here's how you'd think this through:\n",
    "\n",
    "```text\n",
    "1. 12 inches per foot\n",
    "\n",
    "2. 4 * 12 = 48 inches of ribbon needed\n",
    "\n",
    "3. 48 <= 87\n",
    "```\n",
    "\n",
    "So yes, you would have plenty of ribbon. You could almost wrap around twice!"
   ]
  },
  {
   "cell_type": "markdown",
   "id": "bb1aade2-59af-4cbc-b5ed-da31e39f266d",
   "metadata": {},
   "source": [
    "<hr style=\"height:10px;border-width:0;color:gray;background-color:gray\">\n",
    "\n",
    "# Page 4 - Peanut Butter and Jelly Time<a class=\"anchor\" id=\"DS102L1_page_4\"></a>\n",
    "\n",
    "[Back to Top](#DS102L1_toc)\n",
    "\n",
    "<hr style=\"height:10px;border-width:0;color:gray;background-color:gray\">\n"
   ]
  },
  {
   "cell_type": "markdown",
   "id": "97b0440b-7a1f-4477-9271-41522319f990",
   "metadata": {},
   "source": [
    "```c-lms\n",
    "topic: PBJ Time\n",
    "```\n",
    "\n",
    "# Peanut Butter and Jelly Time\n",
    "\n",
    "An important aspect of thinking like a programmer is to be precise when giving instructions. This is a tricky thing for most people since it is so unlike what you typically do in everyday life.\n",
    "\n",
    "A classic exercise in learning this skill is to write out a list of step-by-step instructions for making a peanut butter and jelly sandwich.\n",
    "\n",
    "Go ahead and do this now. When you're done, move on to the next section."
   ]
  },
  {
   "cell_type": "markdown",
   "id": "ead4ad3c-2fe6-457e-8924-1410e951bebd",
   "metadata": {},
   "source": [
    "<hr style=\"height:10px;border-width:0;color:gray;background-color:gray\">\n",
    "\n",
    "# Page 5 - PBJ Instructions Check<a class=\"anchor\" id=\"DS102L1_page_5\"></a>\n",
    "\n",
    "[Back to Top](#DS102L1_toc)\n",
    "\n",
    "<hr style=\"height:10px;border-width:0;color:gray;background-color:gray\">\n"
   ]
  },
  {
   "cell_type": "markdown",
   "id": "a0637d56-c0e0-4124-9da5-a306fff50791",
   "metadata": {},
   "source": [
    "```c-lms\n",
    "topic: PBJ Instructions\n",
    "```\n",
    "\n",
    "# PBJ Instructions Check\n",
    "\n",
    "Do your instructions look something like this?\n",
    "\n",
    "* Put peanut butter on one slice of bread\n",
    "* Put jelly on a different slice of bread\n",
    "* Place the two slices on top of each other with the peanut butter facing the jelly\n",
    "\n",
    "Perhaps your directions are more detailed. When working with a computer it is like dealing with someone who takes what you say literally. They will do exactly what you tell them. Here are some video examples of people performing the actions others have written out for dramatic effect:\n",
    "\n",
    "**<a href=\"https://www.youtube.com/watch?v=RjHzD2sfWcQ\" target=\"_blank\">Could you describe how to make a P&J sandwich to an alien??</a>**\n",
    "\n",
    "**<a href=\"https://www.youtube.com/watch?v=cDA3_5982h8\" target=\"_blank\">Exact Instructions Challenge</a>**\n",
    "\n",
    "Do you feel you could write a list of instructions that could hold up to that kind of treatment? What sorts of things would you need to include and what (if anything) could be assumed?"
   ]
  },
  {
   "cell_type": "markdown",
   "id": "dd9e3b8a-9224-447f-8cf7-5035cae86421",
   "metadata": {},
   "source": [
    "<hr style=\"height:10px;border-width:0;color:gray;background-color:gray\">\n",
    "\n",
    "# Page 6 - Breaking Down Problems<a class=\"anchor\" id=\"DS102L1_page_6\"></a>\n",
    "\n",
    "[Back to Top](#DS102L1_toc)\n",
    "\n",
    "<hr style=\"height:10px;border-width:0;color:gray;background-color:gray\">\n"
   ]
  },
  {
   "cell_type": "code",
   "execution_count": 5,
   "id": "16953911-1075-4315-a44d-aa53f881feec",
   "metadata": {},
   "outputs": [
    {
     "data": {
      "text/html": [
       "\n",
       "        <iframe\n",
       "            width=\"720\"\n",
       "            height=\"480\"\n",
       "            src=\"https://player.vimeo.com/video/325919744\"\n",
       "            frameborder=\"0\"\n",
       "            allowfullscreen\n",
       "            \n",
       "        ></iframe>\n",
       "        "
      ],
      "text/plain": [
       "<IPython.lib.display.VimeoVideo at 0x107ac2ca0>"
      ]
     },
     "execution_count": 5,
     "metadata": {},
     "output_type": "execute_result"
    }
   ],
   "source": [
    "from IPython.display import VimeoVideo\n",
    "# Tutorial Video Name: Breaking Down Problems\n",
    "VimeoVideo('325919744', width=720, height=480)"
   ]
  },
  {
   "cell_type": "markdown",
   "id": "9242dda8-33d1-45f8-9354-3fc9ed38394d",
   "metadata": {},
   "source": [
    "The transcript for the above topic tutorial video **[is located here](https://repo.exeterlms.com/documents/V2/DataScience/Video-Transcripts/DSO102-L01-pg6tutorial.zip)**.\n",
    "\n",
    "# Breaking Down Problems\n",
    "\n",
    "There is one more type of challenge you will look at in this lesson; deconstructing word problems. This type of problem is the most challenging for many people. Word problems, while potentially intimidating, closely resemble real-world data science programming tasks. It is very unlikely that you will be handed a well-written specification from a client, instead of a verbal or text based communication to express the desired solution. The actual implementation of that solution requires you to pick apart what you have been given, to connect what is being asked for with a set of tools you have at your disposal, and then formulate a plan for solving the problem.\n",
    "\n",
    "Consider the problem statement:\n",
    "\n",
    "```text\n",
    "I have a list of scores from a survey sent out to our clients. I want to know how well we did across all the scores as a single number.\n",
    "```\n",
    "\n",
    "What data is present in this sentence? What kind of data is it?\n",
    "\n",
    "**After you've come up with an answer, hover your mouse pointer here: A list of scores (numbers)**\n",
    "\n",
    "\n",
    "Once you know the basic elements that are available, you can determine what to do with them. Should you add all the numbers together? Should you pick the largest or the smallest number?\n",
    "\n",
    "The problem is asking for a single number that represents the values of all the individual scores. None of the suggestions above would accomplish this.\n",
    "\n",
    "If you have several very high numbers and a few low numbers, you would expect the answer to be relatively high. If you had several low numbers and one single high number, you might expect the answer to be higher than your low numbers but well below the single high number.\n",
    "\n",
    "So, what kind of operation is being asked for here?\n",
    "\n",
    "After you've come up with an answer, hover your mouse pointer here: The mean (average) of all the scores.\n",
    "\n",
    "What's important here is identifying the question. In this case, it required an understanding of averages and recognizing it as the question. If you did not know what an average was ahead of time, it would be difficult to solve that particular problem.\n",
    "\n",
    "Learning new programming techniques gives you more tools to apply to any given problem. If a problem seems impossible, it is essential to go through the tools that you have and brush up on less familiar ones. Discovering the right tool is often the hardest part of solving a problem.\n",
    "\n",
    "\n",
    "---"
   ]
  },
  {
   "cell_type": "markdown",
   "id": "42cb7d8a-aced-42e5-ac24-32acf8c95473",
   "metadata": {},
   "source": [
    "<hr style=\"height:10px;border-width:0;color:gray;background-color:gray\">\n",
    "\n",
    "# Page 7 - Breaking Down Problems Review<a class=\"anchor\" id=\"DS102L1_page_7\"></a>\n",
    "\n",
    "[Back to Top](#DS102L1_toc)\n",
    "\n",
    "<hr style=\"height:10px;border-width:0;color:gray;background-color:gray\">\n"
   ]
  },
  {
   "cell_type": "markdown",
   "id": "5951d88c-a656-44a7-946a-0eaa0e140845",
   "metadata": {},
   "source": [
    "\n",
    "```c-lms\n",
    "topic: Breaking Down Problems Review\n",
    "```\n",
    "\n",
    "# Breaking Down Problems Review\n",
    "\n",
    "The skills of deconstructing problems and then precisely communicating your instructions will take time to hone. Fortunately, you will have plenty of chances to practice these skills. Try to remember, the process of breaking down the problem and identifying what you want to do next is often the trickiest part. Writing out your list of `what do I have to work with` and `what steps are needed to accomplish my goal` are valuable skills at any level of experience or technical competency. It's no coincidence that whiteboards and sticky notes are widespread in areas where data scientists are working.\n",
    "\n",
    "## Review\n",
    "\n",
    "Below is a quiz to review the recently covered material. Quizzes are _not_ graded."
   ]
  },
  {
   "cell_type": "code",
   "execution_count": 6,
   "id": "7a5cacc4-a54e-4f9b-bebd-6fc45261f15d",
   "metadata": {},
   "outputs": [],
   "source": [
    "try:\n",
    "    from DS_Students import MultipleChoice\n",
    "    from ipynb.fs.full.DS102Questions import *\n",
    "except:\n",
    "    !pip install DS_Students\n",
    "    from DS_Students import MultipleChoice\n",
    "    from ipynb.fs.full.DS102Questions import *"
   ]
  },
  {
   "cell_type": "code",
   "execution_count": 7,
   "id": "01c0a5cb-fb5e-42b3-a091-da350a52e456",
   "metadata": {},
   "outputs": [
    {
     "data": {
      "application/vnd.jupyter.widget-view+json": {
       "model_id": "8346ba218eb44c368296a90f40f4bc81",
       "version_major": 2,
       "version_minor": 0
      },
      "text/plain": [
       "VBox(children=(Output(), RadioButtons(layout=Layout(width='max-content'), options=(('A. True', 0), ('B. False'…"
      ]
     },
     "metadata": {},
     "output_type": "display_data"
    },
    {
     "data": {
      "application/vnd.jupyter.widget-view+json": {
       "model_id": "c15c810e6a0d4b6cb892ff318deaee41",
       "version_major": 2,
       "version_minor": 0
      },
      "text/plain": [
       "VBox(children=(Output(), RadioButtons(layout=Layout(width='max-content'), options=(('A. Think like a computer'…"
      ]
     },
     "metadata": {},
     "output_type": "display_data"
    }
   ],
   "source": [
    "try:\n",
    "    display(L1P7Q1, L1P7Q2)\n",
    "except:\n",
    "    pass"
   ]
  },
  {
   "cell_type": "markdown",
   "id": "d7b3f800-0a14-4d13-8c32-390965c537ca",
   "metadata": {},
   "source": [
    "<hr style=\"height:10px;border-width:0;color:gray;background-color:gray\">\n",
    "\n",
    "# Page 8 - Mistakes are INEVITABLE<a class=\"anchor\" id=\"DS102L1_page_8\"></a>\n",
    "\n",
    "[Back to Top](#DS102L1_toc)\n",
    "\n",
    "<hr style=\"height:10px;border-width:0;color:gray;background-color:gray\">\n"
   ]
  },
  {
   "cell_type": "code",
   "execution_count": 8,
   "id": "13969a89-c2d0-4b7f-b5dd-3013c085e04f",
   "metadata": {},
   "outputs": [
    {
     "data": {
      "text/html": [
       "\n",
       "        <iframe\n",
       "            width=\"720\"\n",
       "            height=\"480\"\n",
       "            src=\"https://player.vimeo.com/video/325919805\"\n",
       "            frameborder=\"0\"\n",
       "            allowfullscreen\n",
       "            \n",
       "        ></iframe>\n",
       "        "
      ],
      "text/plain": [
       "<IPython.lib.display.VimeoVideo at 0x107ac2e20>"
      ]
     },
     "execution_count": 8,
     "metadata": {},
     "output_type": "execute_result"
    }
   ],
   "source": [
    "from IPython.display import VimeoVideo\n",
    "# Tutorial Video Name: Mistakes are Inevitable\n",
    "VimeoVideo('325919805', width=720, height=480)"
   ]
  },
  {
   "cell_type": "markdown",
   "id": "a8cedb52-f183-4112-b5d9-5151477d50e2",
   "metadata": {},
   "source": [
    "The transcript for the above topic tutorial video **[is located here](https://repo.exeterlms.com/documents/V2/DataScience/Video-Transcripts/DSO102-L01-pg8tutorial.zip)**.\n",
    "\n",
    "# Mistakes are INEVITABLE\n",
    "\n",
    "> _“Experience is the name everyone gives to their mistakes.”_ – Oscar Wilde\n",
    "\n",
    "In programming there is no truer statement.  You cannot get better at programming without making a lot of mistakes along the way.  In fact, a very common truism in programming is: \n",
    "\n",
    ">_\"If something works the first time you run it, be very afraid._”\n",
    "\n",
    "Mistakes come in all types.  Misspell a word here, use the wrong character there, forget a semi-colon or curly brace there, and all of a sudden you’ll see red on your screen. This should not cause fear.  In fact, errors are your friend.  They’re the greatest teacher and best pathway to learning.  In order to understand what you need to do, you often first need to know what _NOT_ to do.\n",
    "\n",
    "See if you can figure out what’s wrong with the following sentence:\n",
    "\n",
    "```text\n",
    "My friend Ron is from The United Kingdom and he loves French cuisine.\n",
    "```\n",
    "\n",
    "Did you spot the error? Great! There are, in fact, _more than one_ problem with the sentence above. Did you find them, or did you stop once you discovered the first one?\n",
    "\n",
    "A common issue beginning developers have is that once they encounter an error with their code, they tend to stop paying attention to the rest of it.  They can become fixated on the one problem and not realize another problem might also be lurking.  After they fix the first bug, they will see another error message due to the second problem, but believe the error message is still caused by the first error.  It can take days to realize they fixed the original issue all along.\n",
    "\n",
    "Even experienced developers can spend days trying to fix an error in their code.  Since a computer interprets the language literally, you must be perfect in how you articulate the instructions &mdash; you saw this with the peanut butter and jelly sandwich example.  The instructions might be very clear to you as you write them, but when taken literally they don’t make sense.\n",
    "\n",
    "Looking back at the sentence about Ron, despite having two errors, were you still able to understand the meaning?  More than likely you were; however, a computer doesn’t think the same as you do.  It takes a very keen eye and intricate understanding of the language to know that the `T` in the word `the`, when used as an adjective before a proper noun, should be lowercase. That’s the first error. The second error is that there should be a comma before the conjunction `and` to separate the two independent clauses. Miss a comma between arguments when coding, and your computer will definitely be unhappy!\n",
    "\n",
    "---\n",
    "\n",
    "## Logical Errors\n",
    "\n",
    "There is something else interesting about the sentence above: some grammar-correction software may not detect the errors. As far as the grammar-correction software can tell, `The` might be part of the proper noun `The United Kingdom`.  It has no way of knowing your intention is to use `the` as an adjective to `United Kingdom`.  A similar issue is happening with the missing comma.  Without understanding the intent of the sentence the grammar-correction software will not know that it is two conjoined sentences.  It can only interpret the words in their literal form.\n",
    "\n",
    "Both of these errors are what would be called a `logical error` in programming.  The sentence is grammatically correct as far as the grammar-correction software is concerned, but there are logical errors that cannot be determined by the computer since it can only understand the text literally.  The rules of capitalization and punctuation often require an understanding of the intention of the phrase trying to be conveyed, and this is not something a computer can determine easily.  The same is true with programming.  The computer cannot determine the intent of your code, only the syntax you used to write it.\n",
    "\n",
    "Even if you had a keen eye for both problems, consider how often you make grammatical errors in your own writing.  Now imagine that every grammatical error you ever made was taken literally by a computer.  Would the computer comprehend your instructions?  How often would your intention be misinterpreted by the computer? Could your instructions be performed exactly as you wrote them but have unintended results?\n",
    "\n",
    "You will make many mistakes along the way.  Do not fear them, embrace them.  They will help you grow as a programmer.  The more mistakes you make, the faster you will grow.  As you explore R and Python, it is advised that you even take a little time to break your code after a successful attempt, to learn more about what works, what doesn't and why."
   ]
  },
  {
   "cell_type": "markdown",
   "id": "36943bcd-7e16-4af1-97d3-c09e81ae5e99",
   "metadata": {},
   "source": [
    "<hr style=\"height:10px;border-width:0;color:gray;background-color:gray\">\n",
    "\n",
    "# Page 9 - Imposter Syndrome <a class=\"anchor\" id=\"DS102L1_page_9\"></a>\n",
    "\n",
    "[Back to Top](#DS102L1_toc)\n",
    "\n",
    "<hr style=\"height:10px;border-width:0;color:gray;background-color:gray\">\n"
   ]
  },
  {
   "cell_type": "code",
   "execution_count": 9,
   "id": "7b8df9fb-a58c-4547-806a-335e9d106250",
   "metadata": {},
   "outputs": [
    {
     "data": {
      "text/html": [
       "\n",
       "        <iframe\n",
       "            width=\"720\"\n",
       "            height=\"480\"\n",
       "            src=\"https://player.vimeo.com/video/325919763\"\n",
       "            frameborder=\"0\"\n",
       "            allowfullscreen\n",
       "            \n",
       "        ></iframe>\n",
       "        "
      ],
      "text/plain": [
       "<IPython.lib.display.VimeoVideo at 0x109ff8580>"
      ]
     },
     "execution_count": 9,
     "metadata": {},
     "output_type": "execute_result"
    }
   ],
   "source": [
    "from IPython.display import VimeoVideo\n",
    "# Tutorial Video Name: Imposter Syndrome\n",
    "VimeoVideo('325919763', width=720, height=480)"
   ]
  },
  {
   "cell_type": "markdown",
   "id": "935085f4-b053-4fa6-8b2e-3f69dc7d3d3e",
   "metadata": {},
   "source": [
    "The transcript for the above topic tutorial video **[is located here](https://repo.exeterlms.com/documents/V2/DataScience/Video-Transcripts/DSO102-L01-pg9tutorial.zip)**.\n",
    "\n",
    "# Imposter Syndrome\n",
    "\n",
    "One of the most commonly-expressed worries beginning data scientists have is feeling not good enough to be labeled a `data scientist`.  It is sometimes hard to see your own successes when compared to others.  You may feel like a fraud, or a fake.  There is a term for this feeling; it’s called the *Imposter Syndrome*.\n",
    "\n",
    "<div class=\"panel panel-success\">\n",
    "    <div class=\"panel-heading\">\n",
    "        <h3 class=\"panel-title\">Check out this article about Imposter Syndrome in Data Science!</h3>\n",
    "    </div>\n",
    "    <div class=\"panel-body\">\n",
    "        <p>If you would like to read more about Imposter Syndrome specifically for data science, and tips to overcome it, check out <a href=\"https://caitlinhudon.com/2018/01/19/imposter-syndrome-in-data-science/\" target=\"_blank\">this blog</a>.</p>\n",
    "    </div>\n",
    "</div>\n",
    "\n",
    "Due to the vast scale of information that a data scientist must comprehend, it's easy to understand why this feeling exists.  However, EVERYONE is facing the same challenges - remember that data science is only a few years old!\n",
    "\n",
    "Much like learning a verbal language, a person can spend years learning it and still only barely pass in a community of native speakers. In fact, learning how to program is a lot like learning a new language, because it **IS** a new language!\n",
    "\n",
    "Your brain has to be trained how to think like a programmer using a programming language.  It takes years to perfect, and it can be intimidating when there are peers who seemingly understand the language better.\n",
    "\n",
    "---\n",
    "\n",
    "## Hard To See Success\n",
    "\n",
    "It is easy to ignore your own success and attribute it to luck or deception.  The result is that the feeling may not go away even after proving your ability to perform the tasks at hand. And as a junior data scientist, there will be several situations where you will feel in over your head.  It’s a significant part of learning.\n",
    "\n",
    "> _\"Every great developer you know got there by solving problems they were unqualified to solve until they actually did it.\"_ - Patrick McKenzie\n",
    "\n",
    "Questioning your skills and abilities is one of the driving forces behind expanding your learning.  Great developers embrace the struggle of not knowing the solution and use it as a means to further their academic understanding. Trying to learn new techniques and become better skilled at a craft is a continuous struggle.  Perfection is not obtainable, but improvement is.\n",
    "\n",
    "<div class=\"panel panel-success\">\n",
    "    <div class=\"panel-heading\">\n",
    "        <h3 class=\"panel-title\">Additional Info!</h3>\n",
    "    </div>\n",
    "    <div class=\"panel-body\">\n",
    "        <p>You may want to watch this <a href=\"https://vimeo.com/456013155\"> recorded live workshop on imposter syndrome and how to combat it! </a> </p>\n",
    "    </div>\n",
    "</div>\n",
    "\n",
    "---\n",
    "\n",
    "## Review\n",
    "\n",
    "Take quiz to review the recently covered material. Quizzes are _not_ graded."
   ]
  },
  {
   "cell_type": "code",
   "execution_count": 10,
   "id": "e2589c96-610d-47ae-ab5f-8bbd0b8c4bc0",
   "metadata": {},
   "outputs": [
    {
     "data": {
      "application/vnd.jupyter.widget-view+json": {
       "model_id": "b945772214da460ebd58c699b511ed84",
       "version_major": 2,
       "version_minor": 0
      },
      "text/plain": [
       "VBox(children=(Output(outputs=({'name': 'stdout', 'text': '1. Mistakes are:\\n', 'output_type': 'stream'},)), R…"
      ]
     },
     "metadata": {},
     "output_type": "display_data"
    },
    {
     "data": {
      "application/vnd.jupyter.widget-view+json": {
       "model_id": "70b1b131e7d24fee809e14434bf40f6d",
       "version_major": 2,
       "version_minor": 0
      },
      "text/plain": [
       "VBox(children=(Output(outputs=({'name': 'stdout', 'text': '2. A problem in code that cannot be detected by the…"
      ]
     },
     "metadata": {},
     "output_type": "display_data"
    },
    {
     "data": {
      "application/vnd.jupyter.widget-view+json": {
       "model_id": "155442faa5a948ffb8435edc40840388",
       "version_major": 2,
       "version_minor": 0
      },
      "text/plain": [
       "VBox(children=(Output(outputs=({'name': 'stdout', 'text': '3. Imposter Syndrome is caused by:\\n', 'output_type…"
      ]
     },
     "metadata": {},
     "output_type": "display_data"
    }
   ],
   "source": [
    "try:\n",
    "    display(L1P9Q1, L1P9Q2, L1P9Q3)\n",
    "except:\n",
    "    pass"
   ]
  },
  {
   "cell_type": "markdown",
   "id": "2a0d02d5-04fa-4220-9637-d02c3b32dce5",
   "metadata": {},
   "source": [
    "<hr style=\"height:10px;border-width:0;color:gray;background-color:gray\">\n",
    "\n",
    "# Page 10 - Key Terms<a class=\"anchor\" id=\"DS102L1_page_10\"></a>\n",
    "\n",
    "[Back to Top](#DS102L1_toc)\n",
    "\n",
    "<hr style=\"height:10px;border-width:0;color:gray;background-color:gray\">"
   ]
  },
  {
   "cell_type": "markdown",
   "id": "23a0e279-63a5-43eb-b252-b1725f879f38",
   "metadata": {},
   "source": [
    "```c-lms\n",
    "topic: Key Terms\n",
    "```\n",
    "\n",
    "Below is a list and short description of the important keywords you have learned in this lesson. Please, read through, go back and review any concepts you don't understand fully. Great Work!\n",
    "\n",
    "<table class=\"table table-striped\">\n",
    "  <thead>\n",
    "    <tr>\n",
    "      <th>Tag</th>\n",
    "      <th>Description</th>\n",
    "    </tr>\n",
    "  </thead>\n",
    "  <tbody>\n",
    "    <tr>\n",
    "      <td style=\"font-weight: bold;\" nowrap>Conversion</td>\n",
    "      <td>The process of changing or causing something to change from one form to another.</td>\n",
    "    </tr>\n",
    "    <tr>\n",
    "      <td style=\"font-weight: bold;\" nowrap>Logical Errors</td>\n",
    "      <td>A mistake in a program's source code that results in incorrect or unexpected behavior.</td>\n",
    "    </tr>\n",
    "    <tr>\n",
    "      <td style=\"font-weight: bold;\" nowrap>Imposter Syndrome</td>\n",
    "      <td>A psychological pattern in which an individual doubts their accomplishments and has a persistent internalized fear of being exposed as a \"fraud.\"</td>\n",
    "    </tr>\n",
    "  </tbody>\n",
    "</table>"
   ]
  },
  {
   "cell_type": "code",
   "execution_count": null,
   "id": "b5da645d-b236-4705-8802-321ad5a4c3a0",
   "metadata": {},
   "outputs": [],
   "source": []
  },
  {
   "cell_type": "markdown",
   "id": "9bba3c8d-1f14-4193-9342-035ae0834585",
   "metadata": {},
   "source": [
    "<hr style=\"height:10px;border-width:0;color:gray;background-color:gray\">\n",
    "\n",
    "# Page 11 - Lesson 1 Hands-On<a class=\"anchor\" id=\"DS102L1_page_11\"></a>\n",
    "\n",
    "[Back to Top](#DS102L1_toc)\n",
    "\n",
    "<hr style=\"height:10px;border-width:0;color:gray;background-color:gray\">"
   ]
  },
  {
   "cell_type": "markdown",
   "id": "de5e6861-0ebe-43e3-88e8-981acc665141",
   "metadata": {},
   "source": [
    "Lesson 1 Hands-On 45 points\n",
    "\n",
    "## Directions\n",
    "\n",
    "For this Hands-On, in the requirements you are given a problem statement. With this problem statement you will need to write out the steps needed to accomplish the task. Save your work in a text document named HandsOnL01 and be sure to upload your zipped file when you are finished. Although this hands on will not be graded, the best way to become a data scientist is to practice!\n",
    "\n",
    "## Caution!\n",
    "Do not submit your project until you have completed all requirements, as you will not be able to resubmit.\n",
    "\n",
    "## Requirements\n",
    "You have a bag filled with jellybeans of three different colors: pink, green, and yellow and 3 cups that cannot be moved arranged in a line in front of you. The end result should be that all the jellybeans have been removed from the bag and placed into cups. Each cup should only contain 1 color. The jellybeans should be placed into the cups so that the pile that is the smallest is on the left, and the pile that is the largest is on the right. Jellybeans cannot be placed anywhere except in the bag or in a cup.\n",
    "\n",
    "## Caution!\n",
    "Submit your HandsOnL01 zipped text document with your solution in the area below.\n",
    "\n",
    "## Tip!\n",
    "To zip your file on Windows, right click on the file and select \"Send to\", then select \"Compressed (zipped) folder\". For Mac users, right click on the file and select \"Compress\", then select your file from the options.\n",
    "\n"
   ]
  },
  {
   "cell_type": "code",
   "execution_count": null,
   "id": "4e610bfd-4164-48e1-9219-b442d07f8938",
   "metadata": {},
   "outputs": [],
   "source": []
  }
 ],
 "metadata": {
  "kernelspec": {
   "display_name": "Python 3 (ipykernel)",
   "language": "python",
   "name": "python3"
  },
  "language_info": {
   "codemirror_mode": {
    "name": "ipython",
    "version": 3
   },
   "file_extension": ".py",
   "mimetype": "text/x-python",
   "name": "python",
   "nbconvert_exporter": "python",
   "pygments_lexer": "ipython3",
   "version": "3.9.10"
  }
 },
 "nbformat": 4,
 "nbformat_minor": 5
}
