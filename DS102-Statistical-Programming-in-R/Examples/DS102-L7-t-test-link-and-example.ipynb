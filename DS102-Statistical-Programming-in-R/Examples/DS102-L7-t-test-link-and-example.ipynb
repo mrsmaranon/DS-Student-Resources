{
 "cells": [
  {
   "cell_type": "markdown",
   "id": "81f81cd9-ecb6-4794-a958-06108540d4cc",
   "metadata": {},
   "source": [
    "# Paired T test examples - Examples of Different Formats\n",
    "#### By Melissa Gonzalez and Marcy Misner \n",
    "--- \n",
    "+ Below is a [link](http://www.sthda.com/english/wiki/paired-samples-t-test-in-r#:~:text=The%20paired%20samples%20t%2Dtest,t%2Dtest%20using%20R%20software.&text=Compute%20the%20mean%20(m)%20and,standard%20deviation%20(s)%20of%20d) that has more information on when to use either a tilde or a comma in your t.test() function.\n",
    "\n",
    "+ See the image and further examples below:"
   ]
  },
  {
   "cell_type": "markdown",
   "id": "35af9165-20d6-4504-bcba-b1fd55116c58",
   "metadata": {},
   "source": [
    "![A screenshot of t test examples to illustrate when to use tilde or commas.](../Media/t-test-examples.png)\n",
    "\n"
   ]
  },
  {
   "cell_type": "markdown",
   "id": "0c01484c-05d9-40b8-8d67-9b21e96d9cc1",
   "metadata": {},
   "source": [
    "# Examples\n",
    "## Using skydive data in a paired t-test using vectors\n",
    "+ First, we're going to access our dataset. We will use the dataset used in DSO101 that contains heart rates of individuals before and after skydiving."
   ]
  },
  {
   "cell_type": "code",
   "execution_count": 8,
   "id": "0016346b-6af2-4de2-a176-f74cc319f10f",
   "metadata": {},
   "outputs": [],
   "source": [
    "skydive <- read.csv(\"../../DS101-Basic-Statistics/Data/skydive.csv\")"
   ]
  },
  {
   "cell_type": "markdown",
   "id": "4e123908-eb44-4c41-ada8-56f18e37a5c5",
   "metadata": {},
   "source": [
    "+ We imported this dataset into a variable named ```skydive```\n",
    "+ To look at this dataset, we need to call the dataset the function ```View(skydive)``` to view the entire dataset."
   ]
  },
  {
   "cell_type": "code",
   "execution_count": 10,
   "id": "51829ddc-2ccd-4b9c-95f3-3e7592f0ea87",
   "metadata": {},
   "outputs": [
    {
     "data": {
      "text/html": [
       "<table class=\"dataframe\">\n",
       "<caption>A data.frame: 22 × 3</caption>\n",
       "<thead>\n",
       "\t<tr><th scope=col>subjGrp</th><th scope=col>time</th><th scope=col>heartRt</th></tr>\n",
       "\t<tr><th scope=col>&lt;int&gt;</th><th scope=col>&lt;int&gt;</th><th scope=col>&lt;dbl&gt;</th></tr>\n",
       "</thead>\n",
       "<tbody>\n",
       "\t<tr><td> 1</td><td>1</td><td>73.78</td></tr>\n",
       "\t<tr><td> 2</td><td>1</td><td>79.60</td></tr>\n",
       "\t<tr><td> 3</td><td>1</td><td>81.37</td></tr>\n",
       "\t<tr><td> 4</td><td>1</td><td>85.46</td></tr>\n",
       "\t<tr><td> 5</td><td>1</td><td>85.03</td></tr>\n",
       "\t<tr><td> 6</td><td>1</td><td>67.81</td></tr>\n",
       "\t<tr><td> 7</td><td>1</td><td>64.79</td></tr>\n",
       "\t<tr><td> 8</td><td>1</td><td>84.82</td></tr>\n",
       "\t<tr><td> 9</td><td>1</td><td>78.31</td></tr>\n",
       "\t<tr><td>10</td><td>1</td><td>68.13</td></tr>\n",
       "\t<tr><td>11</td><td>1</td><td>76.91</td></tr>\n",
       "\t<tr><td> 1</td><td>5</td><td>91.47</td></tr>\n",
       "\t<tr><td> 2</td><td>5</td><td>89.23</td></tr>\n",
       "\t<tr><td> 3</td><td>5</td><td>93.32</td></tr>\n",
       "\t<tr><td> 4</td><td>5</td><td>89.59</td></tr>\n",
       "\t<tr><td> 5</td><td>5</td><td>77.07</td></tr>\n",
       "\t<tr><td> 6</td><td>5</td><td>90.56</td></tr>\n",
       "\t<tr><td> 7</td><td>5</td><td>79.37</td></tr>\n",
       "\t<tr><td> 8</td><td>5</td><td>84.20</td></tr>\n",
       "\t<tr><td> 9</td><td>5</td><td>95.09</td></tr>\n",
       "\t<tr><td>10</td><td>5</td><td>71.90</td></tr>\n",
       "\t<tr><td>11</td><td>5</td><td>86.18</td></tr>\n",
       "</tbody>\n",
       "</table>\n"
      ],
      "text/latex": [
       "A data.frame: 22 × 3\n",
       "\\begin{tabular}{lll}\n",
       " subjGrp & time & heartRt\\\\\n",
       " <int> & <int> & <dbl>\\\\\n",
       "\\hline\n",
       "\t  1 & 1 & 73.78\\\\\n",
       "\t  2 & 1 & 79.60\\\\\n",
       "\t  3 & 1 & 81.37\\\\\n",
       "\t  4 & 1 & 85.46\\\\\n",
       "\t  5 & 1 & 85.03\\\\\n",
       "\t  6 & 1 & 67.81\\\\\n",
       "\t  7 & 1 & 64.79\\\\\n",
       "\t  8 & 1 & 84.82\\\\\n",
       "\t  9 & 1 & 78.31\\\\\n",
       "\t 10 & 1 & 68.13\\\\\n",
       "\t 11 & 1 & 76.91\\\\\n",
       "\t  1 & 5 & 91.47\\\\\n",
       "\t  2 & 5 & 89.23\\\\\n",
       "\t  3 & 5 & 93.32\\\\\n",
       "\t  4 & 5 & 89.59\\\\\n",
       "\t  5 & 5 & 77.07\\\\\n",
       "\t  6 & 5 & 90.56\\\\\n",
       "\t  7 & 5 & 79.37\\\\\n",
       "\t  8 & 5 & 84.20\\\\\n",
       "\t  9 & 5 & 95.09\\\\\n",
       "\t 10 & 5 & 71.90\\\\\n",
       "\t 11 & 5 & 86.18\\\\\n",
       "\\end{tabular}\n"
      ],
      "text/markdown": [
       "\n",
       "A data.frame: 22 × 3\n",
       "\n",
       "| subjGrp &lt;int&gt; | time &lt;int&gt; | heartRt &lt;dbl&gt; |\n",
       "|---|---|---|\n",
       "|  1 | 1 | 73.78 |\n",
       "|  2 | 1 | 79.60 |\n",
       "|  3 | 1 | 81.37 |\n",
       "|  4 | 1 | 85.46 |\n",
       "|  5 | 1 | 85.03 |\n",
       "|  6 | 1 | 67.81 |\n",
       "|  7 | 1 | 64.79 |\n",
       "|  8 | 1 | 84.82 |\n",
       "|  9 | 1 | 78.31 |\n",
       "| 10 | 1 | 68.13 |\n",
       "| 11 | 1 | 76.91 |\n",
       "|  1 | 5 | 91.47 |\n",
       "|  2 | 5 | 89.23 |\n",
       "|  3 | 5 | 93.32 |\n",
       "|  4 | 5 | 89.59 |\n",
       "|  5 | 5 | 77.07 |\n",
       "|  6 | 5 | 90.56 |\n",
       "|  7 | 5 | 79.37 |\n",
       "|  8 | 5 | 84.20 |\n",
       "|  9 | 5 | 95.09 |\n",
       "| 10 | 5 | 71.90 |\n",
       "| 11 | 5 | 86.18 |\n",
       "\n"
      ],
      "text/plain": [
       "   subjGrp time heartRt\n",
       "1   1      1    73.78  \n",
       "2   2      1    79.60  \n",
       "3   3      1    81.37  \n",
       "4   4      1    85.46  \n",
       "5   5      1    85.03  \n",
       "6   6      1    67.81  \n",
       "7   7      1    64.79  \n",
       "8   8      1    84.82  \n",
       "9   9      1    78.31  \n",
       "10 10      1    68.13  \n",
       "11 11      1    76.91  \n",
       "12  1      5    91.47  \n",
       "13  2      5    89.23  \n",
       "14  3      5    93.32  \n",
       "15  4      5    89.59  \n",
       "16  5      5    77.07  \n",
       "17  6      5    90.56  \n",
       "18  7      5    79.37  \n",
       "19  8      5    84.20  \n",
       "20  9      5    95.09  \n",
       "21 10      5    71.90  \n",
       "22 11      5    86.18  "
      ]
     },
     "metadata": {},
     "output_type": "display_data"
    }
   ],
   "source": [
    "View(skydive)"
   ]
  },
  {
   "cell_type": "markdown",
   "id": "9bc69df2-4170-4c99-bb53-fd8833da2f22",
   "metadata": {},
   "source": [
    "+ This dataset has:\n",
    "    + 11 different indivduals listed as a number in the column ```subjGrp```, \n",
    "    + time (before = 1, after = 5) in the column ```time```,\n",
    "    + and heart rates in the column ```heartRt```\n",
    "    \n",
    "+ We will now put all of the 'before' values and all of the 'after' values into separate vectors.\n",
    "    + Rows 1 - 11 have the before values\n",
    "    + Rows 12 - 22 have the after values"
   ]
  },
  {
   "cell_type": "code",
   "execution_count": 13,
   "id": "0b710bea-f3c3-4f64-9a7f-5f60f1637dee",
   "metadata": {},
   "outputs": [],
   "source": [
    "before <- skydive$heartRt[1:11]\n",
    "after <- skydive$heartRt[12:22]"
   ]
  },
  {
   "cell_type": "markdown",
   "id": "ba60f011-6192-4f5a-b1bc-b85731a239ee",
   "metadata": {},
   "source": [
    "+ We can now run a paired t-test using these two vectors of heart rate measurements to compare.\n",
    "+ Because they are in vector format, we will use commas to separate the variables in our t.test function.\n",
    "+ the basic syntax is ```t.test(vector1, vector2, paired = TRUE)```"
   ]
  },
  {
   "cell_type": "code",
   "execution_count": 25,
   "id": "ebc84229-82cc-453c-9e7c-5bfc0d9e4296",
   "metadata": {},
   "outputs": [],
   "source": [
    "skyDiveVectortTest <- t.test(before, after, paired = TRUE)"
   ]
  },
  {
   "cell_type": "markdown",
   "id": "a0bdbdc1-9b5e-405a-867b-2bcc01574d94",
   "metadata": {},
   "source": [
    "+ To see the results of our ```skyDiveVectortTest```, we will now call it by running just the name."
   ]
  },
  {
   "cell_type": "code",
   "execution_count": 20,
   "id": "e9873bf1-dade-4f20-84c4-a4443cfb79ee",
   "metadata": {},
   "outputs": [
    {
     "data": {
      "text/plain": [
       "\n",
       "\tPaired t-test\n",
       "\n",
       "data:  before and after\n",
       "t = -3.4463, df = 10, p-value = 0.006265\n",
       "alternative hypothesis: true difference in means is not equal to 0\n",
       "95 percent confidence interval:\n",
       " -15.263312  -3.276688\n",
       "sample estimates:\n",
       "mean of the differences \n",
       "                  -9.27 \n"
      ]
     },
     "metadata": {},
     "output_type": "display_data"
    }
   ],
   "source": [
    "skyDiveVectortTest"
   ]
  },
  {
   "cell_type": "markdown",
   "id": "b54909df-c8c5-4347-b139-49d183680f90",
   "metadata": {},
   "source": [
    "+ The p-value from this t-test is 0.006265. Because this is less than our alpha of 0.05, we will reject the null hypothesis that there is no difference in heart rate between before and after skydiving. We will instead accept the alternative hypothesis that there IS a different between the before and after heartrates.\n",
    "\n",
    "+ Next we will look at the same data, but run the t-test using the data in a dataframe format.\n",
    "---\n",
    "## Using skydive data in a paired t-test using a dataframe format\n",
    "+ We can also run a t-test if we keep the data in the format of the dataframe.\n",
    "+ To do this, we would list the column with the heart rate values to compare (```heartRt```) followed by a tilde (```~```) and then list the column that lists the information relating to groups. In this situation, this information is in the column named ```time```.\n",
    "+ We will then need to list the name of the dataframe.\n",
    "+ The basic syntax is ```t.test(values ~ grouping, data = dataFrameName, paired = TRUE)```"
   ]
  },
  {
   "cell_type": "code",
   "execution_count": 22,
   "id": "f832af36-71f6-4a6f-afb6-8d3e9e7897af",
   "metadata": {},
   "outputs": [],
   "source": [
    "skyDiveDataFrametTest <- t.test(heartRt ~ time, data = skydive, paired = TRUE)"
   ]
  },
  {
   "cell_type": "code",
   "execution_count": 23,
   "id": "1f859fc9-b707-4b4f-9a7a-c4e544ccbd63",
   "metadata": {},
   "outputs": [
    {
     "data": {
      "text/plain": [
       "\n",
       "\tPaired t-test\n",
       "\n",
       "data:  heartRt by time\n",
       "t = -3.4463, df = 10, p-value = 0.006265\n",
       "alternative hypothesis: true difference in means is not equal to 0\n",
       "95 percent confidence interval:\n",
       " -15.263312  -3.276688\n",
       "sample estimates:\n",
       "mean of the differences \n",
       "                  -9.27 \n"
      ]
     },
     "metadata": {},
     "output_type": "display_data"
    }
   ],
   "source": [
    "skyDiveDataFrametTest"
   ]
  },
  {
   "cell_type": "markdown",
   "id": "1b467e41-388a-4a2a-85e2-26abfe28f101",
   "metadata": {},
   "source": [
    "+ Notice how the resulting p-value is exactly the same. The only difference is the format of how we fed the same information to run this paired t-test."
   ]
  }
 ],
 "metadata": {
  "kernelspec": {
   "display_name": "R",
   "language": "R",
   "name": "ir"
  },
  "language_info": {
   "codemirror_mode": "r",
   "file_extension": ".r",
   "mimetype": "text/x-r-source",
   "name": "R",
   "pygments_lexer": "r",
   "version": "4.1.2"
  }
 },
 "nbformat": 4,
 "nbformat_minor": 5
}
