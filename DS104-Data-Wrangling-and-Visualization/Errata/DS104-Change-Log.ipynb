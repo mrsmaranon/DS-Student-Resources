{
 "cells": [
  {
   "cell_type": "markdown",
   "id": "dc8bc06c-333f-4dc9-9e0f-9749dbbf078c",
   "metadata": {
    "jp-MarkdownHeadingCollapsed": true,
    "tags": []
   },
   "source": [
    "# Change Log\n",
    "\n",
    "1. example: DS101L1P4, Added PowerBI example, [DS101L1P4 PowerBI](../DS101L1.ipynb#DS101L1_PowerBI), [UAT Link](https://wozu.uat.exeterlms.com/lesson/50197/topic/829439), [Jira ticket link](https://woz-u-projects.atlassian.net/browse/CUR-1891) \n",
    "2. example: DS101L2P1, Issue to be changed, link to issue, link to UAT, Jira ticket link\n",
    "3. DS104 Lesson 4, Page 6, HR['salary'].value_counts().plot('bar') -> HR['salary'].value_counts().plot(kind='bar'), [Jira ticket](https://woz-u-projects.atlassian.net/browse/CUR-1942)\n",
    "4. DSO104 Lesson 4, Page 18 .value_counts().plot('bar') -> .value_counts().plot(kind='bar') [Jira Ticket](https://woz-u-projects.atlassian.net/browse/CUR-1943)\n",
    "5. DSO104 Lesson 4, Page 8 (Stacked Bar Charts in Python is located halfway down the page under Stacked Bar charts in R) - Jira ticket request that formatting of code block in LMS should be changed to match companion notebooks.  [Jira Ticket](https://woz-u-projects.atlassian.net/browse/CUR-1977)\n",
    "6. [DSO104L7 Page 3 Step 3 Fix broken link][Jira Ticket](https://woz-u-projects.atlassian.net/browse/CUR-1998)\n"
   ]
  },
  {
   "cell_type": "markdown",
   "id": "c7ce384e-5fb3-47a0-bd65-6e610176ef16",
   "metadata": {},
   "source": [
    "# TODO List:\n",
    "\n",
    "1. Workshops/04-Data-Transformations-in-Python.ipynb needs data sets (payment.csv, profile.csv, train.csv and test.csv) added to Data Folder and path updates for imports. \n",
    "2. Fix babies examples for R and python"
   ]
  },
  {
   "cell_type": "code",
   "execution_count": null,
   "id": "f6e8c488-6a70-4943-9f61-8441ee6b6e4a",
   "metadata": {},
   "outputs": [],
   "source": []
  }
 ],
 "metadata": {
  "kernelspec": {
   "display_name": "Python 3 (ipykernel)",
   "language": "python",
   "name": "python3"
  },
  "language_info": {
   "codemirror_mode": {
    "name": "ipython",
    "version": 3
   },
   "file_extension": ".py",
   "mimetype": "text/x-python",
   "name": "python",
   "nbconvert_exporter": "python",
   "pygments_lexer": "ipython3",
   "version": "3.9.10"
  }
 },
 "nbformat": 4,
 "nbformat_minor": 5
}
