{
 "cells": [
  {
   "cell_type": "code",
   "execution_count": 1,
   "id": "35dd7684-9852-44a0-8857-7d2dd0f14b96",
   "metadata": {},
   "outputs": [],
   "source": [
    "#pip install tabula-py"
   ]
  },
  {
   "cell_type": "code",
   "execution_count": 2,
   "id": "6715854b-75a8-4362-abf1-06483bef4c42",
   "metadata": {},
   "outputs": [
    {
     "name": "stderr",
     "output_type": "stream",
     "text": [
      "'pages' argument isn't specified.Will extract only from page 1 by default.\n"
     ]
    }
   ],
   "source": [
    "from tabula import read_pdf\n",
    "df = read_pdf('../Data/Longitudinal_data.pdf')"
   ]
  },
  {
   "cell_type": "code",
   "execution_count": 7,
   "id": "14c08d72-379e-4649-8c88-886750c30eb7",
   "metadata": {},
   "outputs": [],
   "source": [
    "#df\n"
   ]
  }
 ],
 "metadata": {
  "kernelspec": {
   "display_name": "Python 3 (ipykernel)",
   "language": "python",
   "name": "python3"
  },
  "language_info": {
   "codemirror_mode": {
    "name": "ipython",
    "version": 3
   },
   "file_extension": ".py",
   "mimetype": "text/x-python",
   "name": "python",
   "nbconvert_exporter": "python",
   "pygments_lexer": "ipython3",
   "version": "3.9.10"
  }
 },
 "nbformat": 4,
 "nbformat_minor": 5
}
