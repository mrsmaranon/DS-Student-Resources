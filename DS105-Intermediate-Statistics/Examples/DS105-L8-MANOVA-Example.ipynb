{
 "cells": [
  {
   "cell_type": "markdown",
   "id": "8fdaf557-d2f0-4ed4-9e71-e223de923340",
   "metadata": {},
   "source": [
    "## Install and Load Packages\n",
    "The MANOVA function comes in the base package of R, so the libraries that you will need to load are all related to assumption testing. You will need the following: mvnormtest to test for multivariate normality, and car to test for homogeneity of variance."
   ]
  },
  {
   "cell_type": "code",
   "execution_count": 2,
   "id": "9c215aa3-8a4e-47db-80ce-2d0d4033bb36",
   "metadata": {},
   "outputs": [
    {
     "name": "stdout",
     "output_type": "stream",
     "text": [
      "\n",
      "The downloaded binary packages are in\n",
      "\t/var/folders/wk/6why77bn1kn0l0pkd4vd3zl00000gn/T//RtmpZGIruS/downloaded_packages\n",
      "\n",
      "The downloaded binary packages are in\n",
      "\t/var/folders/wk/6why77bn1kn0l0pkd4vd3zl00000gn/T//RtmpZGIruS/downloaded_packages\n"
     ]
    }
   ],
   "source": [
    "# install packages\n",
    "install.packages(\"mvnormtest\")\n",
    "install.packages(\"car\")"
   ]
  },
  {
   "cell_type": "code",
   "execution_count": 3,
   "id": "419343b4-aacb-4616-80de-dea6cb802649",
   "metadata": {},
   "outputs": [
    {
     "name": "stderr",
     "output_type": "stream",
     "text": [
      "Loading required package: carData\n",
      "\n"
     ]
    }
   ],
   "source": [
    "# load packages\n",
    "library(\"mvnormtest\")\n",
    "library(\"car\")"
   ]
  },
  {
   "cell_type": "markdown",
   "id": "f2a3a629-42d2-4b1c-b3df-8d8409d9adcb",
   "metadata": {},
   "source": [
    "## Load in Data¶\n",
    "You will be using data about Kickstarter Projects to learn MANOVAs. This data has information about the project, it's category, the deadline and goal for fundraising, when the project was launched, the amount of money pledged, the country, and the current state of the project."
   ]
  },
  {
   "cell_type": "code",
   "execution_count": 64,
   "id": "ece51794-0e23-47d1-b05d-549ee3f53bed",
   "metadata": {},
   "outputs": [],
   "source": [
    "### load data\n",
    "kickstarter = read.csv('../Data/kickstarter.csv')"
   ]
  },
  {
   "cell_type": "code",
   "execution_count": 65,
   "id": "9b263802-312e-4d8c-97dc-bb72234366d7",
   "metadata": {},
   "outputs": [
    {
     "data": {
      "text/html": [
       "<table class=\"dataframe\">\n",
       "<caption>A data.frame: 6 × 17</caption>\n",
       "<thead>\n",
       "\t<tr><th></th><th scope=col>ID</th><th scope=col>name</th><th scope=col>category</th><th scope=col>main_category</th><th scope=col>currency</th><th scope=col>deadline</th><th scope=col>goal</th><th scope=col>launched</th><th scope=col>pledged</th><th scope=col>state</th><th scope=col>backers</th><th scope=col>country</th><th scope=col>usd.pledged</th><th scope=col>X</th><th scope=col>X.1</th><th scope=col>X.2</th><th scope=col>X.3</th></tr>\n",
       "\t<tr><th></th><th scope=col>&lt;int&gt;</th><th scope=col>&lt;chr&gt;</th><th scope=col>&lt;chr&gt;</th><th scope=col>&lt;chr&gt;</th><th scope=col>&lt;chr&gt;</th><th scope=col>&lt;chr&gt;</th><th scope=col>&lt;chr&gt;</th><th scope=col>&lt;chr&gt;</th><th scope=col>&lt;chr&gt;</th><th scope=col>&lt;chr&gt;</th><th scope=col>&lt;chr&gt;</th><th scope=col>&lt;chr&gt;</th><th scope=col>&lt;chr&gt;</th><th scope=col>&lt;chr&gt;</th><th scope=col>&lt;chr&gt;</th><th scope=col>&lt;chr&gt;</th><th scope=col>&lt;int&gt;</th></tr>\n",
       "</thead>\n",
       "<tbody>\n",
       "\t<tr><th scope=row>1</th><td>1000002330</td><td><span style=white-space:pre-wrap>The Songs of Adelaide &amp; Abullah                             </span></td><td><span style=white-space:pre-wrap>Poetry        </span></td><td><span style=white-space:pre-wrap>Publishing  </span></td><td>GBP</td><td>10/9/2015 11:36 </td><td>1000 </td><td>8/11/2015 12:12</td><td><span style=white-space:pre-wrap>0    </span></td><td><span style=white-space:pre-wrap>failed    </span></td><td><span style=white-space:pre-wrap>0  </span></td><td>GB</td><td><span style=white-space:pre-wrap>0    </span></td><td></td><td></td><td></td><td>NA</td></tr>\n",
       "\t<tr><th scope=row>2</th><td>1000004038</td><td><span style=white-space:pre-wrap>Where is Hank?                                              </span></td><td>Narrative Film</td><td>Film &amp; Video</td><td>USD</td><td><span style=white-space:pre-wrap>2/26/2013 0:20  </span></td><td>45000</td><td>1/12/2013 0:20 </td><td><span style=white-space:pre-wrap>220  </span></td><td><span style=white-space:pre-wrap>failed    </span></td><td><span style=white-space:pre-wrap>3  </span></td><td>US</td><td><span style=white-space:pre-wrap>220  </span></td><td></td><td></td><td></td><td>NA</td></tr>\n",
       "\t<tr><th scope=row>3</th><td>1000007540</td><td>ToshiCapital Rekordz Needs Help to Complete Album           </td><td>Music         </td><td>Music       </td><td>USD</td><td>4/16/2012 4:24  </td><td>5000 </td><td>3/17/2012 3:24 </td><td>1    </td><td>failed    </td><td>1  </td><td>US</td><td>1    </td><td></td><td></td><td></td><td>NA</td></tr>\n",
       "\t<tr><th scope=row>4</th><td>1000011046</td><td><span style=white-space:pre-wrap>Community Film Project: The Art of Neighborhood Filmmaking  </span></td><td><span style=white-space:pre-wrap>Film &amp; Video  </span></td><td>Film &amp; Video</td><td>USD</td><td><span style=white-space:pre-wrap>8/29/2015 1:00  </span></td><td>19500</td><td><span style=white-space:pre-wrap>7/4/2015 8:35  </span></td><td>1283 </td><td><span style=white-space:pre-wrap>canceled  </span></td><td>14 </td><td>US</td><td>1283 </td><td></td><td></td><td></td><td>NA</td></tr>\n",
       "\t<tr><th scope=row>5</th><td>1000014025</td><td>Monarch Espresso Bar                                        </td><td>Restaurants   </td><td>Food        </td><td>USD</td><td>4/1/2016 13:38  </td><td>50000</td><td>2/26/2016 13:38</td><td>52375</td><td>successful</td><td>224</td><td>US</td><td>52375</td><td></td><td></td><td></td><td>NA</td></tr>\n",
       "\t<tr><th scope=row>6</th><td>1000023410</td><td><span style=white-space:pre-wrap>Support Solar Roasted Coffee &amp; Green Energy!  SolarCoffee.co</span></td><td><span style=white-space:pre-wrap>Food          </span></td><td><span style=white-space:pre-wrap>Food        </span></td><td>USD</td><td>12/21/2014 18:30</td><td>1000 </td><td>12/1/2014 18:30</td><td>1205 </td><td>successful</td><td>16 </td><td>US</td><td>1205 </td><td></td><td></td><td></td><td>NA</td></tr>\n",
       "</tbody>\n",
       "</table>\n"
      ],
      "text/latex": [
       "A data.frame: 6 × 17\n",
       "\\begin{tabular}{r|lllllllllllllllll}\n",
       "  & ID & name & category & main\\_category & currency & deadline & goal & launched & pledged & state & backers & country & usd.pledged & X & X.1 & X.2 & X.3\\\\\n",
       "  & <int> & <chr> & <chr> & <chr> & <chr> & <chr> & <chr> & <chr> & <chr> & <chr> & <chr> & <chr> & <chr> & <chr> & <chr> & <chr> & <int>\\\\\n",
       "\\hline\n",
       "\t1 & 1000002330 & The Songs of Adelaide \\& Abullah                              & Poetry         & Publishing   & GBP & 10/9/2015 11:36  & 1000  & 8/11/2015 12:12 & 0     & failed     & 0   & GB & 0     &  &  &  & NA\\\\\n",
       "\t2 & 1000004038 & Where is Hank?                                               & Narrative Film & Film \\& Video & USD & 2/26/2013 0:20   & 45000 & 1/12/2013 0:20  & 220   & failed     & 3   & US & 220   &  &  &  & NA\\\\\n",
       "\t3 & 1000007540 & ToshiCapital Rekordz Needs Help to Complete Album            & Music          & Music        & USD & 4/16/2012 4:24   & 5000  & 3/17/2012 3:24  & 1     & failed     & 1   & US & 1     &  &  &  & NA\\\\\n",
       "\t4 & 1000011046 & Community Film Project: The Art of Neighborhood Filmmaking   & Film \\& Video   & Film \\& Video & USD & 8/29/2015 1:00   & 19500 & 7/4/2015 8:35   & 1283  & canceled   & 14  & US & 1283  &  &  &  & NA\\\\\n",
       "\t5 & 1000014025 & Monarch Espresso Bar                                         & Restaurants    & Food         & USD & 4/1/2016 13:38   & 50000 & 2/26/2016 13:38 & 52375 & successful & 224 & US & 52375 &  &  &  & NA\\\\\n",
       "\t6 & 1000023410 & Support Solar Roasted Coffee \\& Green Energy!  SolarCoffee.co & Food           & Food         & USD & 12/21/2014 18:30 & 1000  & 12/1/2014 18:30 & 1205  & successful & 16  & US & 1205  &  &  &  & NA\\\\\n",
       "\\end{tabular}\n"
      ],
      "text/markdown": [
       "\n",
       "A data.frame: 6 × 17\n",
       "\n",
       "| <!--/--> | ID &lt;int&gt; | name &lt;chr&gt; | category &lt;chr&gt; | main_category &lt;chr&gt; | currency &lt;chr&gt; | deadline &lt;chr&gt; | goal &lt;chr&gt; | launched &lt;chr&gt; | pledged &lt;chr&gt; | state &lt;chr&gt; | backers &lt;chr&gt; | country &lt;chr&gt; | usd.pledged &lt;chr&gt; | X &lt;chr&gt; | X.1 &lt;chr&gt; | X.2 &lt;chr&gt; | X.3 &lt;int&gt; |\n",
       "|---|---|---|---|---|---|---|---|---|---|---|---|---|---|---|---|---|---|\n",
       "| 1 | 1000002330 | The Songs of Adelaide &amp; Abullah                              | Poetry         | Publishing   | GBP | 10/9/2015 11:36  | 1000  | 8/11/2015 12:12 | 0     | failed     | 0   | GB | 0     | <!----> | <!----> | <!----> | NA |\n",
       "| 2 | 1000004038 | Where is Hank?                                               | Narrative Film | Film &amp; Video | USD | 2/26/2013 0:20   | 45000 | 1/12/2013 0:20  | 220   | failed     | 3   | US | 220   | <!----> | <!----> | <!----> | NA |\n",
       "| 3 | 1000007540 | ToshiCapital Rekordz Needs Help to Complete Album            | Music          | Music        | USD | 4/16/2012 4:24   | 5000  | 3/17/2012 3:24  | 1     | failed     | 1   | US | 1     | <!----> | <!----> | <!----> | NA |\n",
       "| 4 | 1000011046 | Community Film Project: The Art of Neighborhood Filmmaking   | Film &amp; Video   | Film &amp; Video | USD | 8/29/2015 1:00   | 19500 | 7/4/2015 8:35   | 1283  | canceled   | 14  | US | 1283  | <!----> | <!----> | <!----> | NA |\n",
       "| 5 | 1000014025 | Monarch Espresso Bar                                         | Restaurants    | Food         | USD | 4/1/2016 13:38   | 50000 | 2/26/2016 13:38 | 52375 | successful | 224 | US | 52375 | <!----> | <!----> | <!----> | NA |\n",
       "| 6 | 1000023410 | Support Solar Roasted Coffee &amp; Green Energy!  SolarCoffee.co | Food           | Food         | USD | 12/21/2014 18:30 | 1000  | 12/1/2014 18:30 | 1205  | successful | 16  | US | 1205  | <!----> | <!----> | <!----> | NA |\n",
       "\n"
      ],
      "text/plain": [
       "  ID         name                                                        \n",
       "1 1000002330 The Songs of Adelaide & Abullah                             \n",
       "2 1000004038 Where is Hank?                                              \n",
       "3 1000007540 ToshiCapital Rekordz Needs Help to Complete Album           \n",
       "4 1000011046 Community Film Project: The Art of Neighborhood Filmmaking  \n",
       "5 1000014025 Monarch Espresso Bar                                        \n",
       "6 1000023410 Support Solar Roasted Coffee & Green Energy!  SolarCoffee.co\n",
       "  category       main_category currency deadline         goal  launched       \n",
       "1 Poetry         Publishing    GBP      10/9/2015 11:36  1000  8/11/2015 12:12\n",
       "2 Narrative Film Film & Video  USD      2/26/2013 0:20   45000 1/12/2013 0:20 \n",
       "3 Music          Music         USD      4/16/2012 4:24   5000  3/17/2012 3:24 \n",
       "4 Film & Video   Film & Video  USD      8/29/2015 1:00   19500 7/4/2015 8:35  \n",
       "5 Restaurants    Food          USD      4/1/2016 13:38   50000 2/26/2016 13:38\n",
       "6 Food           Food          USD      12/21/2014 18:30 1000  12/1/2014 18:30\n",
       "  pledged state      backers country usd.pledged X X.1 X.2 X.3\n",
       "1 0       failed     0       GB      0                     NA \n",
       "2 220     failed     3       US      220                   NA \n",
       "3 1       failed     1       US      1                     NA \n",
       "4 1283    canceled   14      US      1283                  NA \n",
       "5 52375   successful 224     US      52375                 NA \n",
       "6 1205    successful 16      US      1205                  NA "
      ]
     },
     "metadata": {},
     "output_type": "display_data"
    }
   ],
   "source": [
    "# always to a quick view of your data to ensure you've loaded it correctly and what you're dealing with\n",
    "head(kickstarter)"
   ]
  },
  {
   "cell_type": "markdown",
   "id": "98c1d037-090c-42e2-81d8-8867e9bb6b05",
   "metadata": {},
   "source": [
    "A typical way (or classical way) in R to achieve some iteration is using apply and sapply renders through a list and simplifies (hence the “s” in sapply) if possible."
   ]
  },
  {
   "cell_type": "code",
   "execution_count": 66,
   "id": "5d5219dd-35f7-44e0-a887-5e000b2a5526",
   "metadata": {},
   "outputs": [
    {
     "data": {
      "text/html": [
       "<style>\n",
       ".dl-inline {width: auto; margin:0; padding: 0}\n",
       ".dl-inline>dt, .dl-inline>dd {float: none; width: auto; display: inline-block}\n",
       ".dl-inline>dt::after {content: \":\\0020\"; padding-right: .5ex}\n",
       ".dl-inline>dt:not(:first-of-type) {padding-left: .5ex}\n",
       "</style><dl class=dl-inline><dt>ID</dt><dd>0</dd><dt>name</dt><dd>1</dd><dt>category</dt><dd>0</dd><dt>main_category</dt><dd>0</dd><dt>currency</dt><dd>0</dd><dt>deadline</dt><dd>0</dd><dt>goal</dt><dd>0</dd><dt>launched</dt><dd>0</dd><dt>pledged</dt><dd>0</dd><dt>state</dt><dd>0</dd><dt>backers</dt><dd>0</dd><dt>country</dt><dd>0</dd><dt>usd.pledged</dt><dd>0</dd><dt>X</dt><dd>0</dd><dt>X.1</dt><dd>0</dd><dt>X.2</dt><dd>0</dd><dt>X.3</dt><dd>323749</dd></dl>\n"
      ],
      "text/latex": [
       "\\begin{description*}\n",
       "\\item[ID] 0\n",
       "\\item[name] 1\n",
       "\\item[category] 0\n",
       "\\item[main\\textbackslash{}\\_category] 0\n",
       "\\item[currency] 0\n",
       "\\item[deadline] 0\n",
       "\\item[goal] 0\n",
       "\\item[launched] 0\n",
       "\\item[pledged] 0\n",
       "\\item[state] 0\n",
       "\\item[backers] 0\n",
       "\\item[country] 0\n",
       "\\item[usd.pledged] 0\n",
       "\\item[X] 0\n",
       "\\item[X.1] 0\n",
       "\\item[X.2] 0\n",
       "\\item[X.3] 323749\n",
       "\\end{description*}\n"
      ],
      "text/markdown": [
       "ID\n",
       ":   0name\n",
       ":   1category\n",
       ":   0main_category\n",
       ":   0currency\n",
       ":   0deadline\n",
       ":   0goal\n",
       ":   0launched\n",
       ":   0pledged\n",
       ":   0state\n",
       ":   0backers\n",
       ":   0country\n",
       ":   0usd.pledged\n",
       ":   0X\n",
       ":   0X.1\n",
       ":   0X.2\n",
       ":   0X.3\n",
       ":   323749\n",
       "\n"
      ],
      "text/plain": [
       "           ID          name      category main_category      currency \n",
       "            0             1             0             0             0 \n",
       "     deadline          goal      launched       pledged         state \n",
       "            0             0             0             0             0 \n",
       "      backers       country   usd.pledged             X           X.1 \n",
       "            0             0             0             0             0 \n",
       "          X.2           X.3 \n",
       "            0        323749 "
      ]
     },
     "metadata": {},
     "output_type": "display_data"
    }
   ],
   "source": [
    "sapply(kickstarter, function(x)sum(is.na(x)))"
   ]
  },
  {
   "cell_type": "markdown",
   "id": "2231e620-ce42-4802-874a-7a97ba4ad851",
   "metadata": {},
   "source": [
    "Do you like or need those four columns at the end on the far right of this dataset? Let's get rid of them as they're not needed or wanted."
   ]
  },
  {
   "cell_type": "code",
   "execution_count": 67,
   "id": "b08a331e-7878-44d7-9758-668c523caf99",
   "metadata": {},
   "outputs": [],
   "source": [
    "#easy peasy subset\n",
    "kickstarter2 = subset(kickstarter, select = -c(X,X.1,X.2,X.3))"
   ]
  },
  {
   "cell_type": "code",
   "execution_count": 69,
   "id": "63fe4a73-8551-4900-8165-449e8bc46d33",
   "metadata": {},
   "outputs": [
    {
     "data": {
      "text/html": [
       "<table class=\"dataframe\">\n",
       "<caption>A data.frame: 6 × 13</caption>\n",
       "<thead>\n",
       "\t<tr><th></th><th scope=col>ID</th><th scope=col>name</th><th scope=col>category</th><th scope=col>main_category</th><th scope=col>currency</th><th scope=col>deadline</th><th scope=col>goal</th><th scope=col>launched</th><th scope=col>pledged</th><th scope=col>state</th><th scope=col>backers</th><th scope=col>country</th><th scope=col>usd.pledged</th></tr>\n",
       "\t<tr><th></th><th scope=col>&lt;int&gt;</th><th scope=col>&lt;chr&gt;</th><th scope=col>&lt;chr&gt;</th><th scope=col>&lt;chr&gt;</th><th scope=col>&lt;chr&gt;</th><th scope=col>&lt;chr&gt;</th><th scope=col>&lt;chr&gt;</th><th scope=col>&lt;chr&gt;</th><th scope=col>&lt;chr&gt;</th><th scope=col>&lt;chr&gt;</th><th scope=col>&lt;chr&gt;</th><th scope=col>&lt;chr&gt;</th><th scope=col>&lt;chr&gt;</th></tr>\n",
       "</thead>\n",
       "<tbody>\n",
       "\t<tr><th scope=row>1</th><td>1000002330</td><td><span style=white-space:pre-wrap>The Songs of Adelaide &amp; Abullah                             </span></td><td><span style=white-space:pre-wrap>Poetry        </span></td><td><span style=white-space:pre-wrap>Publishing  </span></td><td>GBP</td><td>10/9/2015 11:36 </td><td>1000 </td><td>8/11/2015 12:12</td><td><span style=white-space:pre-wrap>0    </span></td><td><span style=white-space:pre-wrap>failed    </span></td><td><span style=white-space:pre-wrap>0  </span></td><td>GB</td><td><span style=white-space:pre-wrap>0    </span></td></tr>\n",
       "\t<tr><th scope=row>2</th><td>1000004038</td><td><span style=white-space:pre-wrap>Where is Hank?                                              </span></td><td>Narrative Film</td><td>Film &amp; Video</td><td>USD</td><td><span style=white-space:pre-wrap>2/26/2013 0:20  </span></td><td>45000</td><td>1/12/2013 0:20 </td><td><span style=white-space:pre-wrap>220  </span></td><td><span style=white-space:pre-wrap>failed    </span></td><td><span style=white-space:pre-wrap>3  </span></td><td>US</td><td><span style=white-space:pre-wrap>220  </span></td></tr>\n",
       "\t<tr><th scope=row>3</th><td>1000007540</td><td>ToshiCapital Rekordz Needs Help to Complete Album           </td><td>Music         </td><td>Music       </td><td>USD</td><td>4/16/2012 4:24  </td><td>5000 </td><td>3/17/2012 3:24 </td><td>1    </td><td>failed    </td><td>1  </td><td>US</td><td>1    </td></tr>\n",
       "\t<tr><th scope=row>4</th><td>1000011046</td><td><span style=white-space:pre-wrap>Community Film Project: The Art of Neighborhood Filmmaking  </span></td><td><span style=white-space:pre-wrap>Film &amp; Video  </span></td><td>Film &amp; Video</td><td>USD</td><td><span style=white-space:pre-wrap>8/29/2015 1:00  </span></td><td>19500</td><td><span style=white-space:pre-wrap>7/4/2015 8:35  </span></td><td>1283 </td><td><span style=white-space:pre-wrap>canceled  </span></td><td>14 </td><td>US</td><td>1283 </td></tr>\n",
       "\t<tr><th scope=row>5</th><td>1000014025</td><td>Monarch Espresso Bar                                        </td><td>Restaurants   </td><td>Food        </td><td>USD</td><td>4/1/2016 13:38  </td><td>50000</td><td>2/26/2016 13:38</td><td>52375</td><td>successful</td><td>224</td><td>US</td><td>52375</td></tr>\n",
       "\t<tr><th scope=row>6</th><td>1000023410</td><td><span style=white-space:pre-wrap>Support Solar Roasted Coffee &amp; Green Energy!  SolarCoffee.co</span></td><td><span style=white-space:pre-wrap>Food          </span></td><td><span style=white-space:pre-wrap>Food        </span></td><td>USD</td><td>12/21/2014 18:30</td><td>1000 </td><td>12/1/2014 18:30</td><td>1205 </td><td>successful</td><td>16 </td><td>US</td><td>1205 </td></tr>\n",
       "</tbody>\n",
       "</table>\n"
      ],
      "text/latex": [
       "A data.frame: 6 × 13\n",
       "\\begin{tabular}{r|lllllllllllll}\n",
       "  & ID & name & category & main\\_category & currency & deadline & goal & launched & pledged & state & backers & country & usd.pledged\\\\\n",
       "  & <int> & <chr> & <chr> & <chr> & <chr> & <chr> & <chr> & <chr> & <chr> & <chr> & <chr> & <chr> & <chr>\\\\\n",
       "\\hline\n",
       "\t1 & 1000002330 & The Songs of Adelaide \\& Abullah                              & Poetry         & Publishing   & GBP & 10/9/2015 11:36  & 1000  & 8/11/2015 12:12 & 0     & failed     & 0   & GB & 0    \\\\\n",
       "\t2 & 1000004038 & Where is Hank?                                               & Narrative Film & Film \\& Video & USD & 2/26/2013 0:20   & 45000 & 1/12/2013 0:20  & 220   & failed     & 3   & US & 220  \\\\\n",
       "\t3 & 1000007540 & ToshiCapital Rekordz Needs Help to Complete Album            & Music          & Music        & USD & 4/16/2012 4:24   & 5000  & 3/17/2012 3:24  & 1     & failed     & 1   & US & 1    \\\\\n",
       "\t4 & 1000011046 & Community Film Project: The Art of Neighborhood Filmmaking   & Film \\& Video   & Film \\& Video & USD & 8/29/2015 1:00   & 19500 & 7/4/2015 8:35   & 1283  & canceled   & 14  & US & 1283 \\\\\n",
       "\t5 & 1000014025 & Monarch Espresso Bar                                         & Restaurants    & Food         & USD & 4/1/2016 13:38   & 50000 & 2/26/2016 13:38 & 52375 & successful & 224 & US & 52375\\\\\n",
       "\t6 & 1000023410 & Support Solar Roasted Coffee \\& Green Energy!  SolarCoffee.co & Food           & Food         & USD & 12/21/2014 18:30 & 1000  & 12/1/2014 18:30 & 1205  & successful & 16  & US & 1205 \\\\\n",
       "\\end{tabular}\n"
      ],
      "text/markdown": [
       "\n",
       "A data.frame: 6 × 13\n",
       "\n",
       "| <!--/--> | ID &lt;int&gt; | name &lt;chr&gt; | category &lt;chr&gt; | main_category &lt;chr&gt; | currency &lt;chr&gt; | deadline &lt;chr&gt; | goal &lt;chr&gt; | launched &lt;chr&gt; | pledged &lt;chr&gt; | state &lt;chr&gt; | backers &lt;chr&gt; | country &lt;chr&gt; | usd.pledged &lt;chr&gt; |\n",
       "|---|---|---|---|---|---|---|---|---|---|---|---|---|---|\n",
       "| 1 | 1000002330 | The Songs of Adelaide &amp; Abullah                              | Poetry         | Publishing   | GBP | 10/9/2015 11:36  | 1000  | 8/11/2015 12:12 | 0     | failed     | 0   | GB | 0     |\n",
       "| 2 | 1000004038 | Where is Hank?                                               | Narrative Film | Film &amp; Video | USD | 2/26/2013 0:20   | 45000 | 1/12/2013 0:20  | 220   | failed     | 3   | US | 220   |\n",
       "| 3 | 1000007540 | ToshiCapital Rekordz Needs Help to Complete Album            | Music          | Music        | USD | 4/16/2012 4:24   | 5000  | 3/17/2012 3:24  | 1     | failed     | 1   | US | 1     |\n",
       "| 4 | 1000011046 | Community Film Project: The Art of Neighborhood Filmmaking   | Film &amp; Video   | Film &amp; Video | USD | 8/29/2015 1:00   | 19500 | 7/4/2015 8:35   | 1283  | canceled   | 14  | US | 1283  |\n",
       "| 5 | 1000014025 | Monarch Espresso Bar                                         | Restaurants    | Food         | USD | 4/1/2016 13:38   | 50000 | 2/26/2016 13:38 | 52375 | successful | 224 | US | 52375 |\n",
       "| 6 | 1000023410 | Support Solar Roasted Coffee &amp; Green Energy!  SolarCoffee.co | Food           | Food         | USD | 12/21/2014 18:30 | 1000  | 12/1/2014 18:30 | 1205  | successful | 16  | US | 1205  |\n",
       "\n"
      ],
      "text/plain": [
       "  ID         name                                                        \n",
       "1 1000002330 The Songs of Adelaide & Abullah                             \n",
       "2 1000004038 Where is Hank?                                              \n",
       "3 1000007540 ToshiCapital Rekordz Needs Help to Complete Album           \n",
       "4 1000011046 Community Film Project: The Art of Neighborhood Filmmaking  \n",
       "5 1000014025 Monarch Espresso Bar                                        \n",
       "6 1000023410 Support Solar Roasted Coffee & Green Energy!  SolarCoffee.co\n",
       "  category       main_category currency deadline         goal  launched       \n",
       "1 Poetry         Publishing    GBP      10/9/2015 11:36  1000  8/11/2015 12:12\n",
       "2 Narrative Film Film & Video  USD      2/26/2013 0:20   45000 1/12/2013 0:20 \n",
       "3 Music          Music         USD      4/16/2012 4:24   5000  3/17/2012 3:24 \n",
       "4 Film & Video   Film & Video  USD      8/29/2015 1:00   19500 7/4/2015 8:35  \n",
       "5 Restaurants    Food          USD      4/1/2016 13:38   50000 2/26/2016 13:38\n",
       "6 Food           Food          USD      12/21/2014 18:30 1000  12/1/2014 18:30\n",
       "  pledged state      backers country usd.pledged\n",
       "1 0       failed     0       GB      0          \n",
       "2 220     failed     3       US      220        \n",
       "3 1       failed     1       US      1          \n",
       "4 1283    canceled   14      US      1283       \n",
       "5 52375   successful 224     US      52375      \n",
       "6 1205    successful 16      US      1205       "
      ]
     },
     "metadata": {},
     "output_type": "display_data"
    }
   ],
   "source": [
    "# Boom Gone!\n",
    "head(kickstarter2)"
   ]
  },
  {
   "cell_type": "markdown",
   "id": "74bb0cc5-8b4c-4b2f-9b5a-7d15de4625e2",
   "metadata": {},
   "source": [
    "We have 1 NA left in the name column, let's drop it."
   ]
  },
  {
   "cell_type": "code",
   "execution_count": 71,
   "id": "377bee07-554a-41bb-9b61-8bde4408cf43",
   "metadata": {},
   "outputs": [
    {
     "data": {
      "text/html": [
       "<style>\n",
       ".dl-inline {width: auto; margin:0; padding: 0}\n",
       ".dl-inline>dt, .dl-inline>dd {float: none; width: auto; display: inline-block}\n",
       ".dl-inline>dt::after {content: \":\\0020\"; padding-right: .5ex}\n",
       ".dl-inline>dt:not(:first-of-type) {padding-left: .5ex}\n",
       "</style><dl class=dl-inline><dt>ID</dt><dd>0</dd><dt>name</dt><dd>1</dd><dt>category</dt><dd>0</dd><dt>main_category</dt><dd>0</dd><dt>currency</dt><dd>0</dd><dt>deadline</dt><dd>0</dd><dt>goal</dt><dd>0</dd><dt>launched</dt><dd>0</dd><dt>pledged</dt><dd>0</dd><dt>state</dt><dd>0</dd><dt>backers</dt><dd>0</dd><dt>country</dt><dd>0</dd><dt>usd.pledged</dt><dd>0</dd></dl>\n"
      ],
      "text/latex": [
       "\\begin{description*}\n",
       "\\item[ID] 0\n",
       "\\item[name] 1\n",
       "\\item[category] 0\n",
       "\\item[main\\textbackslash{}\\_category] 0\n",
       "\\item[currency] 0\n",
       "\\item[deadline] 0\n",
       "\\item[goal] 0\n",
       "\\item[launched] 0\n",
       "\\item[pledged] 0\n",
       "\\item[state] 0\n",
       "\\item[backers] 0\n",
       "\\item[country] 0\n",
       "\\item[usd.pledged] 0\n",
       "\\end{description*}\n"
      ],
      "text/markdown": [
       "ID\n",
       ":   0name\n",
       ":   1category\n",
       ":   0main_category\n",
       ":   0currency\n",
       ":   0deadline\n",
       ":   0goal\n",
       ":   0launched\n",
       ":   0pledged\n",
       ":   0state\n",
       ":   0backers\n",
       ":   0country\n",
       ":   0usd.pledged\n",
       ":   0\n",
       "\n"
      ],
      "text/plain": [
       "           ID          name      category main_category      currency \n",
       "            0             1             0             0             0 \n",
       "     deadline          goal      launched       pledged         state \n",
       "            0             0             0             0             0 \n",
       "      backers       country   usd.pledged \n",
       "            0             0             0 "
      ]
     },
     "metadata": {},
     "output_type": "display_data"
    }
   ],
   "source": [
    "sapply(kickstarter2, function(x)sum(is.na(x)))"
   ]
  },
  {
   "cell_type": "markdown",
   "id": "5f93e6d3-16ef-47b7-9b1b-537aad9f8c04",
   "metadata": {},
   "source": [
    "Passing your data frame or matrix through the na.omit() function is a simple way to purge incomplete records from your analysis. It is an efficient way to remove na values in r. We just need to remove the X.3 column first because that was all NAs..."
   ]
  },
  {
   "cell_type": "code",
   "execution_count": 74,
   "id": "57b295e1-9177-49b7-adb9-d90f9425a1b6",
   "metadata": {},
   "outputs": [],
   "source": [
    "# let's omit that last NA\n",
    "kickstarter3 <- na.omit(kickstarter2) "
   ]
  },
  {
   "cell_type": "code",
   "execution_count": 75,
   "id": "f55e85f4-2f98-4f31-9e13-547ad2e0f951",
   "metadata": {},
   "outputs": [
    {
     "data": {
      "text/html": [
       "<style>\n",
       ".dl-inline {width: auto; margin:0; padding: 0}\n",
       ".dl-inline>dt, .dl-inline>dd {float: none; width: auto; display: inline-block}\n",
       ".dl-inline>dt::after {content: \":\\0020\"; padding-right: .5ex}\n",
       ".dl-inline>dt:not(:first-of-type) {padding-left: .5ex}\n",
       "</style><dl class=dl-inline><dt>ID</dt><dd>0</dd><dt>name</dt><dd>0</dd><dt>category</dt><dd>0</dd><dt>main_category</dt><dd>0</dd><dt>currency</dt><dd>0</dd><dt>deadline</dt><dd>0</dd><dt>goal</dt><dd>0</dd><dt>launched</dt><dd>0</dd><dt>pledged</dt><dd>0</dd><dt>state</dt><dd>0</dd><dt>backers</dt><dd>0</dd><dt>country</dt><dd>0</dd><dt>usd.pledged</dt><dd>0</dd></dl>\n"
      ],
      "text/latex": [
       "\\begin{description*}\n",
       "\\item[ID] 0\n",
       "\\item[name] 0\n",
       "\\item[category] 0\n",
       "\\item[main\\textbackslash{}\\_category] 0\n",
       "\\item[currency] 0\n",
       "\\item[deadline] 0\n",
       "\\item[goal] 0\n",
       "\\item[launched] 0\n",
       "\\item[pledged] 0\n",
       "\\item[state] 0\n",
       "\\item[backers] 0\n",
       "\\item[country] 0\n",
       "\\item[usd.pledged] 0\n",
       "\\end{description*}\n"
      ],
      "text/markdown": [
       "ID\n",
       ":   0name\n",
       ":   0category\n",
       ":   0main_category\n",
       ":   0currency\n",
       ":   0deadline\n",
       ":   0goal\n",
       ":   0launched\n",
       ":   0pledged\n",
       ":   0state\n",
       ":   0backers\n",
       ":   0country\n",
       ":   0usd.pledged\n",
       ":   0\n",
       "\n"
      ],
      "text/plain": [
       "           ID          name      category main_category      currency \n",
       "            0             0             0             0             0 \n",
       "     deadline          goal      launched       pledged         state \n",
       "            0             0             0             0             0 \n",
       "      backers       country   usd.pledged \n",
       "            0             0             0 "
      ]
     },
     "metadata": {},
     "output_type": "display_data"
    }
   ],
   "source": [
    "# Boom gone!\n",
    "sapply(kickstarter3, function(x)sum(is.na(x)))"
   ]
  },
  {
   "cell_type": "markdown",
   "id": "84dcf21c-097c-4185-b529-2a3b84ec45e9",
   "metadata": {},
   "source": [
    "## Question Set Up\n",
    "You will be answering the following question with this data:\n",
    "\n",
    "Does the country the project originated in influence the number of backers and the amount of money pledged?\n",
    "\n",
    "To answer this question, the independent variable will be the country the project originated in, country. This is a categorical variable. The two dependent variables will be the number of backers (backers) and the amount pledged (pledged). These variables are both continuous."
   ]
  },
  {
   "cell_type": "markdown",
   "id": "53f1a687-1729-416c-8c51-d3126ee74560",
   "metadata": {},
   "source": [
    "## Data Wrangling\n",
    "Although no data wrangling is actually required for the MANOVA itself, some wrangling is required to test for assumptions. In order to test for multivariate normality, you will need to create a dataset containing only your two dependent variables that is in a matrix format, and you will need to ensure that they are numeric. \n",
    "\n",
    "Note: The test for normality can only handle 5,000 records, so you will also need to limit your data to 5,000 rows as well."
   ]
  },
  {
   "cell_type": "markdown",
   "id": "47d5b9f8-2e52-40e8-b68e-abf7d4f9f25c",
   "metadata": {},
   "source": [
    "## Ensure Variables are Numeric\n",
    "Then check the structure of the data to see what format your dependent variables are in."
   ]
  },
  {
   "cell_type": "code",
   "execution_count": 76,
   "id": "d68dab25-10e3-4f87-9927-cef13757f785",
   "metadata": {},
   "outputs": [
    {
     "name": "stdout",
     "output_type": "stream",
     "text": [
      " chr [1:323749] \"0\" \"220\" \"1\" \"1283\" \"52375\" \"1205\" \"453\" \"8233\" \"6240.57\" ...\n",
      " chr [1:323749] \"0\" \"3\" \"1\" \"14\" \"224\" \"16\" \"40\" \"58\" \"43\" \"0\" \"100\" \"0\" ...\n"
     ]
    }
   ],
   "source": [
    "str(kickstarter3$pledged)\n",
    "str(kickstarter3$backers)"
   ]
  },
  {
   "cell_type": "markdown",
   "id": "27cec020-9c9c-45b3-9fe9-2368538b8545",
   "metadata": {},
   "source": [
    "Notice the quotes around each number, because you may use str() in order to check the data type of each DataFrame column in R"
   ]
  },
  {
   "cell_type": "markdown",
   "id": "952de0c9-7b1c-4989-86aa-d6c7a980178c",
   "metadata": {},
   "source": [
    "But before convert lets subset the data"
   ]
  },
  {
   "cell_type": "markdown",
   "id": "ddaadeb4-ee72-4091-adfb-dc9d39d6ff44",
   "metadata": {},
   "source": [
    "## Subsetting\n",
    "Next, keep only your two dependent variables, pledged and backers."
   ]
  },
  {
   "cell_type": "code",
   "execution_count": 78,
   "id": "9e78696a-915c-4a31-9236-036d30352958",
   "metadata": {},
   "outputs": [],
   "source": [
    "# we only want to keep our two dependent variables\n",
    "keepers <- c(\"pledged\", \"backers\")\n",
    "kickstarter4 <- kickstarter3[keepers]"
   ]
  },
  {
   "cell_type": "code",
   "execution_count": 79,
   "id": "063a7c21-ec81-4acb-b04f-328a6152073a",
   "metadata": {},
   "outputs": [],
   "source": [
    "# Then limit the number of rows:\n",
    "kickstarter5 <- kickstarter4[1:5000,]"
   ]
  },
  {
   "cell_type": "code",
   "execution_count": 83,
   "id": "3c291df0-d866-4462-8e1b-c1bf546677bc",
   "metadata": {},
   "outputs": [
    {
     "data": {
      "text/html": [
       "<table class=\"dataframe\">\n",
       "<caption>A data.frame: 6 × 2</caption>\n",
       "<thead>\n",
       "\t<tr><th></th><th scope=col>pledged</th><th scope=col>backers</th></tr>\n",
       "\t<tr><th></th><th scope=col>&lt;chr&gt;</th><th scope=col>&lt;chr&gt;</th></tr>\n",
       "</thead>\n",
       "<tbody>\n",
       "\t<tr><th scope=row>1</th><td>0    </td><td>0  </td></tr>\n",
       "\t<tr><th scope=row>2</th><td>220  </td><td>3  </td></tr>\n",
       "\t<tr><th scope=row>3</th><td>1    </td><td>1  </td></tr>\n",
       "\t<tr><th scope=row>4</th><td>1283 </td><td>14 </td></tr>\n",
       "\t<tr><th scope=row>5</th><td>52375</td><td>224</td></tr>\n",
       "\t<tr><th scope=row>6</th><td>1205 </td><td>16 </td></tr>\n",
       "</tbody>\n",
       "</table>\n"
      ],
      "text/latex": [
       "A data.frame: 6 × 2\n",
       "\\begin{tabular}{r|ll}\n",
       "  & pledged & backers\\\\\n",
       "  & <chr> & <chr>\\\\\n",
       "\\hline\n",
       "\t1 & 0     & 0  \\\\\n",
       "\t2 & 220   & 3  \\\\\n",
       "\t3 & 1     & 1  \\\\\n",
       "\t4 & 1283  & 14 \\\\\n",
       "\t5 & 52375 & 224\\\\\n",
       "\t6 & 1205  & 16 \\\\\n",
       "\\end{tabular}\n"
      ],
      "text/markdown": [
       "\n",
       "A data.frame: 6 × 2\n",
       "\n",
       "| <!--/--> | pledged &lt;chr&gt; | backers &lt;chr&gt; |\n",
       "|---|---|---|\n",
       "| 1 | 0     | 0   |\n",
       "| 2 | 220   | 3   |\n",
       "| 3 | 1     | 1   |\n",
       "| 4 | 1283  | 14  |\n",
       "| 5 | 52375 | 224 |\n",
       "| 6 | 1205  | 16  |\n",
       "\n"
      ],
      "text/plain": [
       "  pledged backers\n",
       "1 0       0      \n",
       "2 220     3      \n",
       "3 1       1      \n",
       "4 1283    14     \n",
       "5 52375   224    \n",
       "6 1205    16     "
      ]
     },
     "metadata": {},
     "output_type": "display_data"
    }
   ],
   "source": [
    "# we're down to our two columns we need\n",
    "head(kickstarter5)"
   ]
  },
  {
   "cell_type": "code",
   "execution_count": 84,
   "id": "644f53d3-666f-497f-9b18-58f175de0f83",
   "metadata": {},
   "outputs": [
    {
     "data": {
      "text/html": [
       "<style>\n",
       ".dl-inline {width: auto; margin:0; padding: 0}\n",
       ".dl-inline>dt, .dl-inline>dd {float: none; width: auto; display: inline-block}\n",
       ".dl-inline>dt::after {content: \":\\0020\"; padding-right: .5ex}\n",
       ".dl-inline>dt:not(:first-of-type) {padding-left: .5ex}\n",
       "</style><dl class=dl-inline><dt>pledged</dt><dd>0</dd><dt>backers</dt><dd>0</dd></dl>\n"
      ],
      "text/latex": [
       "\\begin{description*}\n",
       "\\item[pledged] 0\n",
       "\\item[backers] 0\n",
       "\\end{description*}\n"
      ],
      "text/markdown": [
       "pledged\n",
       ":   0backers\n",
       ":   0\n",
       "\n"
      ],
      "text/plain": [
       "pledged backers \n",
       "      0       0 "
      ]
     },
     "metadata": {},
     "output_type": "display_data"
    }
   ],
   "source": [
    "sapply(kickstarter5, function(x)sum(is.na(x)))"
   ]
  },
  {
   "cell_type": "code",
   "execution_count": 85,
   "id": "eabc3307-444c-4cde-acd3-6948bf888401",
   "metadata": {},
   "outputs": [
    {
     "name": "stderr",
     "output_type": "stream",
     "text": [
      "Warning message in eval(expr, envir, enclos):\n",
      "“NAs introduced by coercion”\n"
     ]
    }
   ],
   "source": [
    "# as noted above we know these numbers are strings so lets convert to numeric\n",
    "kickstarter5$pledged <- as.numeric(kickstarter5$pledged)"
   ]
  },
  {
   "cell_type": "code",
   "execution_count": 86,
   "id": "bf92128f-f081-477e-a163-cace75ecbd54",
   "metadata": {},
   "outputs": [
    {
     "name": "stderr",
     "output_type": "stream",
     "text": [
      "Warning message in eval(expr, envir, enclos):\n",
      "“NAs introduced by coercion”\n"
     ]
    }
   ],
   "source": [
    "# as noted above we know these numbers are strings so lets convert to numeric\n",
    "kickstarter5$backers <- as.numeric(kickstarter5$backers)"
   ]
  },
  {
   "cell_type": "markdown",
   "id": "df81ca93-bf6f-4899-a0f4-960303bca08e",
   "metadata": {},
   "source": [
    "Oh No! “NAs introduced by coercion” What can we do to fix that? Let's work an example"
   ]
  },
  {
   "cell_type": "code",
   "execution_count": 87,
   "id": "1ce07ca4-d2d0-4073-9acd-e1b436564864",
   "metadata": {},
   "outputs": [
    {
     "name": "stderr",
     "output_type": "stream",
     "text": [
      "Warning message in eval(expr, envir, enclos):\n",
      "“NAs introduced by coercion”\n"
     ]
    },
    {
     "data": {
      "text/html": [
       "<style>\n",
       ".list-inline {list-style: none; margin:0; padding: 0}\n",
       ".list-inline>li {display: inline-block}\n",
       ".list-inline>li:not(:last-child)::after {content: \"\\00b7\"; padding: 0 .5ex}\n",
       "</style>\n",
       "<ol class=list-inline><li>1</li><li>2</li><li>3</li><li>&lt;NA&gt;</li><li>4</li><li>&lt;NA&gt;</li></ol>\n"
      ],
      "text/latex": [
       "\\begin{enumerate*}\n",
       "\\item 1\n",
       "\\item 2\n",
       "\\item 3\n",
       "\\item <NA>\n",
       "\\item 4\n",
       "\\item <NA>\n",
       "\\end{enumerate*}\n"
      ],
      "text/markdown": [
       "1. 1\n",
       "2. 2\n",
       "3. 3\n",
       "4. &lt;NA&gt;\n",
       "5. 4\n",
       "6. &lt;NA&gt;\n",
       "\n",
       "\n"
      ],
      "text/plain": [
       "[1]  1  2  3 NA  4 NA"
      ]
     },
     "metadata": {},
     "output_type": "display_data"
    }
   ],
   "source": [
    "#define character vector\n",
    "x <- c('1', '2', '3', NA, '4', 'Hey')\n",
    "\n",
    "#convert to numeric vector\n",
    "x_num <- as.numeric(x)\n",
    "\n",
    "#display numeric vector\n",
    "x_num"
   ]
  },
  {
   "cell_type": "code",
   "execution_count": 88,
   "id": "9f2f3112-611b-422e-8fd4-8979fd74bfbd",
   "metadata": {},
   "outputs": [
    {
     "data": {
      "text/html": [
       "<style>\n",
       ".dl-inline {width: auto; margin:0; padding: 0}\n",
       ".dl-inline>dt, .dl-inline>dd {float: none; width: auto; display: inline-block}\n",
       ".dl-inline>dt::after {content: \":\\0020\"; padding-right: .5ex}\n",
       ".dl-inline>dt:not(:first-of-type) {padding-left: .5ex}\n",
       "</style><dl class=dl-inline><dt>pledged</dt><dd>8</dd><dt>backers</dt><dd>8</dd></dl>\n"
      ],
      "text/latex": [
       "\\begin{description*}\n",
       "\\item[pledged] 8\n",
       "\\item[backers] 8\n",
       "\\end{description*}\n"
      ],
      "text/markdown": [
       "pledged\n",
       ":   8backers\n",
       ":   8\n",
       "\n"
      ],
      "text/plain": [
       "pledged backers \n",
       "      8       8 "
      ]
     },
     "metadata": {},
     "output_type": "display_data"
    }
   ],
   "source": [
    "# Let's check out how many NAs we introduced by coercion\n",
    "sapply(kickstarter5, function(x)sum(is.na(x)))"
   ]
  },
  {
   "cell_type": "code",
   "execution_count": 89,
   "id": "e8a644b5-8654-480e-a86d-f8c8df1007f3",
   "metadata": {},
   "outputs": [],
   "source": [
    "# Let's remove those \n",
    "kickstarter6 <- na.omit(kickstarter5) "
   ]
  },
  {
   "cell_type": "code",
   "execution_count": 91,
   "id": "a6d1b31b-17e2-4710-bda4-ba52d8ab3180",
   "metadata": {},
   "outputs": [
    {
     "data": {
      "text/html": [
       "<style>\n",
       ".dl-inline {width: auto; margin:0; padding: 0}\n",
       ".dl-inline>dt, .dl-inline>dd {float: none; width: auto; display: inline-block}\n",
       ".dl-inline>dt::after {content: \":\\0020\"; padding-right: .5ex}\n",
       ".dl-inline>dt:not(:first-of-type) {padding-left: .5ex}\n",
       "</style><dl class=dl-inline><dt>pledged</dt><dd>0</dd><dt>backers</dt><dd>0</dd></dl>\n"
      ],
      "text/latex": [
       "\\begin{description*}\n",
       "\\item[pledged] 0\n",
       "\\item[backers] 0\n",
       "\\end{description*}\n"
      ],
      "text/markdown": [
       "pledged\n",
       ":   0backers\n",
       ":   0\n",
       "\n"
      ],
      "text/plain": [
       "pledged backers \n",
       "      0       0 "
      ]
     },
     "metadata": {},
     "output_type": "display_data"
    }
   ],
   "source": [
    "# Did we remove them?\n",
    "sapply(kickstarter6, function(x)sum(is.na(x)))"
   ]
  },
  {
   "cell_type": "markdown",
   "id": "d0f2de26-7de9-4a16-953c-547b902e940a",
   "metadata": {},
   "source": [
    "Yes we did"
   ]
  },
  {
   "cell_type": "markdown",
   "id": "c043cdc7-0d64-4e32-b846-a5edc59fc7e1",
   "metadata": {},
   "source": [
    "## Format as a Matrix\n",
    "Lastly, format the data as a matrix:"
   ]
  },
  {
   "cell_type": "code",
   "execution_count": 93,
   "id": "d93314a8-5b69-4ba4-beaf-b992690778a6",
   "metadata": {},
   "outputs": [],
   "source": [
    "kickstarter7 <- as.matrix(kickstarter6)"
   ]
  },
  {
   "cell_type": "markdown",
   "id": "4db56a61-2494-4b80-8ad2-b9101fefb639",
   "metadata": {},
   "source": [
    "You are now ready to perform the assumptions test for multivariate normality on kickstarter7."
   ]
  },
  {
   "cell_type": "markdown",
   "id": "c10645fa-e868-4966-918e-decb4430c01f",
   "metadata": {},
   "source": [
    "# Test Assumptions\n",
    "With the data wrangling out of the way, it is now time to test assumptions!"
   ]
  },
  {
   "cell_type": "markdown",
   "id": "06c7893a-b494-4fe6-98cf-7340a20e53eb",
   "metadata": {},
   "source": [
    "## Sample Size\n",
    "The first assumption of MANOVAs is sample size. The rule of thumb is that you must have at least 20 cases per independent variable, and that there must be more cases then dependent variables in every cell. Meaning that there must be more than 2 cases for each country. Happily, both of these are fulfilled with a dataset of 323,746!"
   ]
  },
  {
   "cell_type": "markdown",
   "id": "77fcf846-8708-4591-b582-ce799a43001e",
   "metadata": {},
   "source": [
    "## Multivariate Normality\n",
    "To test for multivariate normality, we needed to first drop any missing values using the code which we already performed above in our data wrangling phase"
   ]
  },
  {
   "cell_type": "markdown",
   "id": "1fac35ce-c590-4529-b941-22ba771291da",
   "metadata": {},
   "source": [
    "Now you can use the dataset you wrangled, kickstarter7, in the Wilks-Shapiro test. You can do that with the function mshapiro.test() pulled from the mvnormtest library:"
   ]
  },
  {
   "cell_type": "code",
   "execution_count": 95,
   "id": "bd39b0dd-a617-4012-8c16-8c1da31f7747",
   "metadata": {},
   "outputs": [
    {
     "data": {
      "text/plain": [
       "\n",
       "\tShapiro-Wilk normality test\n",
       "\n",
       "data:  Z\n",
       "W = 0.07914, p-value < 2.2e-16\n"
      ]
     },
     "metadata": {},
     "output_type": "display_data"
    }
   ],
   "source": [
    "mshapiro.test(t(kickstarter7))"
   ]
  },
  {
   "cell_type": "markdown",
   "id": "4279ecf1-3e4a-4e66-a689-cb42a06465b6",
   "metadata": {},
   "source": [
    "You have violated the assumption of multivariate normality if the p value is significant at p < .05, so unfortunately, these data do not meet the assumption for MANOVAs. However, for learning purposes, you will continue"
   ]
  },
  {
   "cell_type": "markdown",
   "id": "45c17fe5-e67a-4639-9dc2-b135a39aa700",
   "metadata": {},
   "source": [
    "## Homogeneity of Variance\n",
    "You can use Levene's Test from the car library to test for homogeneity of variance on both of your dependent variables:"
   ]
  },
  {
   "cell_type": "code",
   "execution_count": 97,
   "id": "c23f9b60-494d-4eb2-9a32-ee6e68c75eae",
   "metadata": {},
   "outputs": [
    {
     "ename": "ERROR",
     "evalue": "Error in leveneTest.default(kickstarter3$pledged, kickstarter3$country, : kickstarter3$pledged is not a numeric variable\n",
     "output_type": "error",
     "traceback": [
      "Error in leveneTest.default(kickstarter3$pledged, kickstarter3$country, : kickstarter3$pledged is not a numeric variable\nTraceback:\n",
      "1. leveneTest(kickstarter3$pledged, kickstarter3$country, data = kickstarter3)",
      "2. leveneTest.default(kickstarter3$pledged, kickstarter3$country, \n .     data = kickstarter3)",
      "3. stop(deparse(substitute(y)), \" is not a numeric variable\")"
     ]
    }
   ],
   "source": [
    "leveneTest(kickstarter3$pledged, kickstarter3$country, data=kickstarter3)"
   ]
  },
  {
   "cell_type": "code",
   "execution_count": 98,
   "id": "c6cf0987-07a7-4a33-b1b2-60dea0d35e9d",
   "metadata": {},
   "outputs": [
    {
     "name": "stderr",
     "output_type": "stream",
     "text": [
      "Warning message in eval(expr, envir, enclos):\n",
      "“NAs introduced by coercion”\n"
     ]
    }
   ],
   "source": [
    "# as noted above we know these numbers are strings so lets convert to numeric\n",
    "kickstarter3$pledged <- as.numeric(kickstarter3$pledged)"
   ]
  },
  {
   "cell_type": "code",
   "execution_count": 99,
   "id": "ff947fc0-f303-4d53-a1bc-b73b791c172b",
   "metadata": {},
   "outputs": [
    {
     "data": {
      "text/html": [
       "<style>\n",
       ".dl-inline {width: auto; margin:0; padding: 0}\n",
       ".dl-inline>dt, .dl-inline>dd {float: none; width: auto; display: inline-block}\n",
       ".dl-inline>dt::after {content: \":\\0020\"; padding-right: .5ex}\n",
       ".dl-inline>dt:not(:first-of-type) {padding-left: .5ex}\n",
       "</style><dl class=dl-inline><dt>ID</dt><dd>0</dd><dt>name</dt><dd>0</dd><dt>category</dt><dd>0</dd><dt>main_category</dt><dd>0</dd><dt>currency</dt><dd>0</dd><dt>deadline</dt><dd>0</dd><dt>goal</dt><dd>0</dd><dt>launched</dt><dd>0</dd><dt>pledged</dt><dd>624</dd><dt>state</dt><dd>0</dd><dt>backers</dt><dd>0</dd><dt>country</dt><dd>0</dd><dt>usd.pledged</dt><dd>0</dd></dl>\n"
      ],
      "text/latex": [
       "\\begin{description*}\n",
       "\\item[ID] 0\n",
       "\\item[name] 0\n",
       "\\item[category] 0\n",
       "\\item[main\\textbackslash{}\\_category] 0\n",
       "\\item[currency] 0\n",
       "\\item[deadline] 0\n",
       "\\item[goal] 0\n",
       "\\item[launched] 0\n",
       "\\item[pledged] 624\n",
       "\\item[state] 0\n",
       "\\item[backers] 0\n",
       "\\item[country] 0\n",
       "\\item[usd.pledged] 0\n",
       "\\end{description*}\n"
      ],
      "text/markdown": [
       "ID\n",
       ":   0name\n",
       ":   0category\n",
       ":   0main_category\n",
       ":   0currency\n",
       ":   0deadline\n",
       ":   0goal\n",
       ":   0launched\n",
       ":   0pledged\n",
       ":   624state\n",
       ":   0backers\n",
       ":   0country\n",
       ":   0usd.pledged\n",
       ":   0\n",
       "\n"
      ],
      "text/plain": [
       "           ID          name      category main_category      currency \n",
       "            0             0             0             0             0 \n",
       "     deadline          goal      launched       pledged         state \n",
       "            0             0             0           624             0 \n",
       "      backers       country   usd.pledged \n",
       "            0             0             0 "
      ]
     },
     "metadata": {},
     "output_type": "display_data"
    }
   ],
   "source": [
    "# Let's check out how many NAs we introduced by coercion\n",
    "sapply(kickstarter3, function(x)sum(is.na(x)))"
   ]
  },
  {
   "cell_type": "code",
   "execution_count": 100,
   "id": "deae7511-4fab-404a-a561-e6bde5e66f39",
   "metadata": {},
   "outputs": [],
   "source": [
    "# Let's remove those \n",
    "kickstarter3 <- na.omit(kickstarter3) "
   ]
  },
  {
   "cell_type": "code",
   "execution_count": 101,
   "id": "a369d626-92bc-42a5-8cf8-efe54a94d112",
   "metadata": {},
   "outputs": [
    {
     "data": {
      "text/html": [
       "<style>\n",
       ".dl-inline {width: auto; margin:0; padding: 0}\n",
       ".dl-inline>dt, .dl-inline>dd {float: none; width: auto; display: inline-block}\n",
       ".dl-inline>dt::after {content: \":\\0020\"; padding-right: .5ex}\n",
       ".dl-inline>dt:not(:first-of-type) {padding-left: .5ex}\n",
       "</style><dl class=dl-inline><dt>ID</dt><dd>0</dd><dt>name</dt><dd>0</dd><dt>category</dt><dd>0</dd><dt>main_category</dt><dd>0</dd><dt>currency</dt><dd>0</dd><dt>deadline</dt><dd>0</dd><dt>goal</dt><dd>0</dd><dt>launched</dt><dd>0</dd><dt>pledged</dt><dd>0</dd><dt>state</dt><dd>0</dd><dt>backers</dt><dd>0</dd><dt>country</dt><dd>0</dd><dt>usd.pledged</dt><dd>0</dd></dl>\n"
      ],
      "text/latex": [
       "\\begin{description*}\n",
       "\\item[ID] 0\n",
       "\\item[name] 0\n",
       "\\item[category] 0\n",
       "\\item[main\\textbackslash{}\\_category] 0\n",
       "\\item[currency] 0\n",
       "\\item[deadline] 0\n",
       "\\item[goal] 0\n",
       "\\item[launched] 0\n",
       "\\item[pledged] 0\n",
       "\\item[state] 0\n",
       "\\item[backers] 0\n",
       "\\item[country] 0\n",
       "\\item[usd.pledged] 0\n",
       "\\end{description*}\n"
      ],
      "text/markdown": [
       "ID\n",
       ":   0name\n",
       ":   0category\n",
       ":   0main_category\n",
       ":   0currency\n",
       ":   0deadline\n",
       ":   0goal\n",
       ":   0launched\n",
       ":   0pledged\n",
       ":   0state\n",
       ":   0backers\n",
       ":   0country\n",
       ":   0usd.pledged\n",
       ":   0\n",
       "\n"
      ],
      "text/plain": [
       "           ID          name      category main_category      currency \n",
       "            0             0             0             0             0 \n",
       "     deadline          goal      launched       pledged         state \n",
       "            0             0             0             0             0 \n",
       "      backers       country   usd.pledged \n",
       "            0             0             0 "
      ]
     },
     "metadata": {},
     "output_type": "display_data"
    }
   ],
   "source": [
    "sapply(kickstarter3, function(x)sum(is.na(x)))"
   ]
  },
  {
   "cell_type": "code",
   "execution_count": 102,
   "id": "7497cdfa-d783-4c94-89dd-cc3386769d68",
   "metadata": {},
   "outputs": [
    {
     "name": "stderr",
     "output_type": "stream",
     "text": [
      "Warning message in leveneTest.default(kickstarter3$pledged, kickstarter3$country, :\n",
      "“kickstarter3$country coerced to factor.”\n"
     ]
    },
    {
     "data": {
      "text/html": [
       "<table class=\"dataframe\">\n",
       "<caption>A anova: 2 × 3</caption>\n",
       "<thead>\n",
       "\t<tr><th></th><th scope=col>Df</th><th scope=col>F value</th><th scope=col>Pr(&gt;F)</th></tr>\n",
       "\t<tr><th></th><th scope=col>&lt;int&gt;</th><th scope=col>&lt;dbl&gt;</th><th scope=col>&lt;dbl&gt;</th></tr>\n",
       "</thead>\n",
       "<tbody>\n",
       "\t<tr><th scope=row>group</th><td>    23</td><td>22.13071</td><td>5.663731e-93</td></tr>\n",
       "\t<tr><th scope=row> </th><td>323101</td><td>      NA</td><td>          NA</td></tr>\n",
       "</tbody>\n",
       "</table>\n"
      ],
      "text/latex": [
       "A anova: 2 × 3\n",
       "\\begin{tabular}{r|lll}\n",
       "  & Df & F value & Pr(>F)\\\\\n",
       "  & <int> & <dbl> & <dbl>\\\\\n",
       "\\hline\n",
       "\tgroup &     23 & 22.13071 & 5.663731e-93\\\\\n",
       "\t  & 323101 &       NA &           NA\\\\\n",
       "\\end{tabular}\n"
      ],
      "text/markdown": [
       "\n",
       "A anova: 2 × 3\n",
       "\n",
       "| <!--/--> | Df &lt;int&gt; | F value &lt;dbl&gt; | Pr(&gt;F) &lt;dbl&gt; |\n",
       "|---|---|---|---|\n",
       "| group |     23 | 22.13071 | 5.663731e-93 |\n",
       "| <!----> | 323101 |       NA |           NA |\n",
       "\n"
      ],
      "text/plain": [
       "      Df     F value  Pr(>F)      \n",
       "group     23 22.13071 5.663731e-93\n",
       "      323101       NA           NA"
      ]
     },
     "metadata": {},
     "output_type": "display_data"
    }
   ],
   "source": [
    "leveneTest(kickstarter3$pledged, kickstarter3$country, data=kickstarter3)"
   ]
  },
  {
   "cell_type": "code",
   "execution_count": null,
   "id": "c3c69282-a125-47ff-bb9a-6373759c19b4",
   "metadata": {},
   "outputs": [],
   "source": []
  }
 ],
 "metadata": {
  "kernelspec": {
   "display_name": "R",
   "language": "R",
   "name": "ir"
  },
  "language_info": {
   "codemirror_mode": "r",
   "file_extension": ".r",
   "mimetype": "text/x-r-source",
   "name": "R",
   "pygments_lexer": "r",
   "version": "4.1.2"
  }
 },
 "nbformat": 4,
 "nbformat_minor": 5
}
