{
 "cells": [
  {
   "cell_type": "code",
   "execution_count": 22,
   "id": "7922f83d-900d-4fd8-9dda-41fded10b52d",
   "metadata": {},
   "outputs": [],
   "source": [
    "import pandas as pd\n",
    "aws_df = pd.read_csv('../Data/AWS2.csv')"
   ]
  },
  {
   "cell_type": "code",
   "execution_count": 23,
   "id": "b2179ad3-ddaf-4a71-8123-414614bf8451",
   "metadata": {},
   "outputs": [],
   "source": [
    "pd.set_option('display.max_columns', None)\n",
    "pd.set_option('display.max_rows', 1000)"
   ]
  },
  {
   "cell_type": "code",
   "execution_count": 26,
   "id": "d78b5b3e-db38-40dd-8a75-b0df1ed533d3",
   "metadata": {},
   "outputs": [
    {
     "data": {
      "text/html": [
       "<div><div id=8bf8e846-2226-480b-bf54-f590cb10609a style=\"display:none; background-color:#9D6CFF; color:white; width:200px; height:30px; padding-left:5px; border-radius:4px; flex-direction:row; justify-content:space-around; align-items:center;\" onmouseover=\"this.style.backgroundColor='#BA9BF8'\" onmouseout=\"this.style.backgroundColor='#9D6CFF'\" onclick=\"window.commands?.execute('create-mitosheet-from-dataframe-output');\">See Full Dataframe in Mito</div> <script> if (window.commands.hasCommand('create-mitosheet-from-dataframe-output')) document.getElementById('8bf8e846-2226-480b-bf54-f590cb10609a').style.display = 'flex' </script> <table border=\"1\" class=\"dataframe\">\n",
       "  <thead>\n",
       "    <tr style=\"text-align: right;\">\n",
       "      <th></th>\n",
       "      <th>Name</th>\n",
       "      <th>Description</th>\n",
       "      <th>Type</th>\n",
       "      <th>FedRAMP Moderate (East/West)</th>\n",
       "      <th>FedRAMP High (GovCloud)</th>\n",
       "      <th>DoD CC SRG IL2 (East/West)</th>\n",
       "      <th>DoD CC SRG IL2 (GovCloud)</th>\n",
       "      <th>DoD CC SRG IL4 (GovCloud)</th>\n",
       "      <th>DoD CC SRG IL5 (GovCloud)</th>\n",
       "      <th>DoD CC SRG IL6 (AWS Secret Region)</th>\n",
       "    </tr>\n",
       "  </thead>\n",
       "  <tbody>\n",
       "    <tr>\n",
       "      <th>0</th>\n",
       "      <td>Alexa for Business</td>\n",
       "      <td>Empower your organization with Alexa</td>\n",
       "      <td>Business Applications</td>\n",
       "      <td>NaN</td>\n",
       "      <td>NaN</td>\n",
       "      <td>NaN</td>\n",
       "      <td>NaN</td>\n",
       "      <td>NaN</td>\n",
       "      <td>NaN</td>\n",
       "      <td>NaN</td>\n",
       "    </tr>\n",
       "    <tr>\n",
       "      <th>1</th>\n",
       "      <td>Amazon API Gateway</td>\n",
       "      <td>Build, deploy, and manage API's</td>\n",
       "      <td>Mobile</td>\n",
       "      <td>✓</td>\n",
       "      <td>✓</td>\n",
       "      <td>✓</td>\n",
       "      <td>✓</td>\n",
       "      <td>✓</td>\n",
       "      <td>✓</td>\n",
       "      <td>NaN</td>\n",
       "    </tr>\n",
       "    <tr>\n",
       "      <th>2</th>\n",
       "      <td>Amazon API Gateway</td>\n",
       "      <td>Build, deploy, and manage APIs</td>\n",
       "      <td>Networking</td>\n",
       "      <td>✓</td>\n",
       "      <td>✓</td>\n",
       "      <td>✓</td>\n",
       "      <td>✓</td>\n",
       "      <td>✓</td>\n",
       "      <td>✓</td>\n",
       "      <td>NaN</td>\n",
       "    </tr>\n",
       "    <tr>\n",
       "      <th>3</th>\n",
       "      <td>Amazon AppFlow</td>\n",
       "      <td>No code integration for SaaS apps &amp; AWS services</td>\n",
       "      <td>Application Integration</td>\n",
       "      <td>NaN</td>\n",
       "      <td>NaN</td>\n",
       "      <td>NaN</td>\n",
       "      <td>NaN</td>\n",
       "      <td>NaN</td>\n",
       "      <td>NaN</td>\n",
       "      <td>NaN</td>\n",
       "    </tr>\n",
       "    <tr>\n",
       "      <th>4</th>\n",
       "      <td>Amazon AppStream 2.0</td>\n",
       "      <td>Stream desktop applications securely to a browser</td>\n",
       "      <td>End User Computing</td>\n",
       "      <td>✓</td>\n",
       "      <td>✓</td>\n",
       "      <td>✓</td>\n",
       "      <td>✓</td>\n",
       "      <td>✓</td>\n",
       "      <td>✓</td>\n",
       "      <td>NaN</td>\n",
       "    </tr>\n",
       "  </tbody>\n",
       "</table></div>"
      ],
      "text/plain": [
       "                   Name                                        Description                     Type FedRAMP Moderate (East/West) FedRAMP High (GovCloud) DoD CC SRG IL2 (East/West) DoD CC SRG IL2 (GovCloud) DoD CC SRG IL4 (GovCloud) DoD CC SRG IL5 (GovCloud) DoD CC SRG IL6 (AWS Secret Region)\n",
       "0    Alexa for Business               Empower your organization with Alexa    Business Applications                          NaN                     NaN                        NaN                       NaN                       NaN                       NaN                                NaN\n",
       "1    Amazon API Gateway                    Build, deploy, and manage API's                   Mobile                            ✓                       ✓                          ✓                         ✓                         ✓                         ✓                                NaN\n",
       "2    Amazon API Gateway                     Build, deploy, and manage APIs               Networking                            ✓                       ✓                          ✓                         ✓                         ✓                         ✓                                NaN\n",
       "3        Amazon AppFlow   No code integration for SaaS apps & AWS services  Application Integration                          NaN                     NaN                        NaN                       NaN                       NaN                       NaN                                NaN\n",
       "4  Amazon AppStream 2.0  Stream desktop applications securely to a browser       End User Computing                            ✓                       ✓                          ✓                         ✓                         ✓                         ✓                                NaN"
      ]
     },
     "execution_count": 26,
     "metadata": {},
     "output_type": "execute_result"
    }
   ],
   "source": [
    "aws_df.head()"
   ]
  },
  {
   "cell_type": "code",
   "execution_count": 25,
   "id": "cd43e954-00b2-470c-8b74-af67bfb438bb",
   "metadata": {},
   "outputs": [
    {
     "data": {
      "application/vnd.jupyter.widget-view+json": {
       "model_id": "1d890ef718da45aeb53383bf8374734b",
       "version_major": 2,
       "version_minor": 0
      },
      "text/plain": [
       "MitoWidget(analysis_data_json='{\"analysisName\": \"UUID-41ee5768-d3b5-42aa-a7a0-8a06b944dfc4\", \"code\": {\"imports…"
      ]
     },
     "metadata": {},
     "output_type": "display_data"
    }
   ],
   "source": [
    "import mitosheet\n",
    "mitosheet.sheet(aws_df, view_df=True)"
   ]
  },
  {
   "cell_type": "code",
   "execution_count": 18,
   "id": "b1d5f03f-e1e7-46f2-b37d-06c54451117c",
   "metadata": {},
   "outputs": [
    {
     "data": {
      "application/vnd.jupyter.widget-view+json": {
       "model_id": "5abc12c149fc4833a67396762ee9279c",
       "version_major": 2,
       "version_minor": 0
      },
      "text/plain": [
       "MitoWidget(analysis_data_json='{\"analysisName\": \"UUID-186cfc89-14e6-4e7d-9d11-f40940f4f2bf\", \"code\": {\"imports…"
      ]
     },
     "metadata": {},
     "output_type": "display_data"
    }
   ],
   "source": [
    "import mitosheet\n",
    "mitosheet.sheet(aws_df.head(250), view_df=True)"
   ]
  },
  {
   "cell_type": "code",
   "execution_count": null,
   "id": "0b8da91c-4de1-46fa-906b-f724525c5668",
   "metadata": {},
   "outputs": [],
   "source": []
  },
  {
   "cell_type": "code",
   "execution_count": 4,
   "id": "aef41881-9189-49e3-bd38-ad741ed73ba3",
   "metadata": {},
   "outputs": [
    {
     "name": "stdout",
     "output_type": "stream",
     "text": [
      "AWS has:  213 unique services\n"
     ]
    }
   ],
   "source": [
    "print(\"AWS has: \", aws_df['Name'].nunique(),\"unique services\")"
   ]
  },
  {
   "cell_type": "code",
   "execution_count": null,
   "id": "78b574e4-8653-4e61-ac92-0841134d9911",
   "metadata": {},
   "outputs": [],
   "source": [
    "aws_type = aws_df.groupby(['Type']).count()\n",
    "aws_type\n"
   ]
  },
  {
   "cell_type": "code",
   "execution_count": 20,
   "id": "b0fcdd0a-3a08-4838-b773-cb8fe4b6f1a4",
   "metadata": {},
   "outputs": [
    {
     "data": {
      "application/vnd.jupyter.widget-view+json": {
       "model_id": "7b016e5df3494fdfbcb6ecc1ffaaeec9",
       "version_major": 2,
       "version_minor": 0
      },
      "text/plain": [
       "MitoWidget(analysis_data_json='{\"analysisName\": \"UUID-cb8c6b84-3199-4097-9c2f-3133caf5c138\", \"code\": {\"imports…"
      ]
     },
     "metadata": {},
     "output_type": "display_data"
    }
   ],
   "source": [
    "import mitosheet\n",
    "mitosheet.sheet(aws_type, view_df=True)"
   ]
  },
  {
   "cell_type": "code",
   "execution_count": null,
   "id": "26964461-de5d-492b-8fd8-4cf9904004a3",
   "metadata": {},
   "outputs": [],
   "source": []
  },
  {
   "cell_type": "code",
   "execution_count": 6,
   "id": "9ba6b83f-fcb9-4f0a-aa64-ab0904bab7fa",
   "metadata": {},
   "outputs": [
    {
     "data": {
      "text/plain": [
       "91"
      ]
     },
     "execution_count": 6,
     "metadata": {},
     "output_type": "execute_result"
    }
   ],
   "source": [
    "aws_IL5 = aws_df['DoD CC SRG IL5 (GovCloud)']\n",
    "aws_IL5.count()"
   ]
  },
  {
   "cell_type": "code",
   "execution_count": 27,
   "id": "b16ae031-d7fa-41e5-9c10-3db1971b27c1",
   "metadata": {},
   "outputs": [
    {
     "name": "stdout",
     "output_type": "stream",
     "text": [
      "AWS has:  25 unique types of services\n"
     ]
    }
   ],
   "source": [
    "print(\"AWS has: \", aws_df['Type'].nunique(),\"unique types of services\")"
   ]
  },
  {
   "cell_type": "code",
   "execution_count": null,
   "id": "94e36068-b079-431c-845c-42feb25015fb",
   "metadata": {},
   "outputs": [],
   "source": []
  }
 ],
 "metadata": {
  "kernelspec": {
   "display_name": "Python 3 (ipykernel)",
   "language": "python",
   "name": "python3"
  },
  "language_info": {
   "codemirror_mode": {
    "name": "ipython",
    "version": 3
   },
   "file_extension": ".py",
   "mimetype": "text/x-python",
   "name": "python",
   "nbconvert_exporter": "python",
   "pygments_lexer": "ipython3",
   "version": "3.9.10"
  }
 },
 "nbformat": 4,
 "nbformat_minor": 5
}
