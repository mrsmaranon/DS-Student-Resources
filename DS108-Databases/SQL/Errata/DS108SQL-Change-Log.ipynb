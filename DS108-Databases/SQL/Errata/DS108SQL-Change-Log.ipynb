{
 "cells": [
  {
   "cell_type": "markdown",
   "id": "dc8bc06c-333f-4dc9-9e0f-9749dbbf078c",
   "metadata": {},
   "source": [
    "# Change Log <a class=\"anchor\" id='Title'></a>\n",
    "\n",
    "\n",
    "1. DS108SQLL1P3, Add warning about reinstalling software, [DS108SQLL1P3](../DS108L1.ipynb#Mac_caution), [UAT Link](https://wozu.uat.exeterlms.com/lesson/50502/topic/834199), [Jira ticket](https://woz-u-projects.atlassian.net/browse/CUR-1904)\n",
    "1. DS108SQLL1P2, Add warning about reinstalling software, [DS108SQLL1P2](../DS108L1.ipynb#PC_Caution), [UAT Link](https://wozu.uat.exeterlms.com/lesson/50502/topic/834200), [Jira ticket](https://woz-u-projects.atlassian.net/browse/CUR-1903)\n",
    "3. DS108L3P9-edited MySQL solution to remove last_update [Jira ticket](https://woz-u-projects.atlassian.net/browse/CUR-1993), [UAT LINK](https://entityacademy.exeterlms.com/lesson/67758/topic/819670)"
   ]
  },
  {
   "cell_type": "markdown",
   "id": "cd081e03-9862-4a0f-8f8b-797c8303b921",
   "metadata": {},
   "source": [
    "1.  DS102L2P3, Add Chocolatey Caution, [DS102L2P3](../DS102L2.ipynb#Chocolatey), [UAT Link](https://wozu.uat.exeterlms.com/lesson/50502/topic/834199), [\\(https://wozu.uat.exeterlms.com/lesson/50152/topic/828552), [Jira Ticket Number](https://woz-u-projects.atlassian.net/browse/CUR-1892)"
   ]
  },
  {
   "cell_type": "code",
   "execution_count": null,
   "id": "1f5b6494-0bdd-46a6-9fcd-3bafb129ae5b",
   "metadata": {},
   "outputs": [],
   "source": []
  }
 ],
 "metadata": {
  "kernelspec": {
   "display_name": "Python 3",
   "language": "python",
   "name": "python3"
  },
  "language_info": {
   "codemirror_mode": {
    "name": "ipython",
    "version": 3
   },
   "file_extension": ".py",
   "mimetype": "text/x-python",
   "name": "python",
   "nbconvert_exporter": "python",
   "pygments_lexer": "ipython3",
   "version": "3.8.5"
  }
 },
 "nbformat": 4,
 "nbformat_minor": 5
}
