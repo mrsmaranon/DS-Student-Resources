{
 "cells": [
  {
   "cell_type": "markdown",
   "id": "dc8bc06c-333f-4dc9-9e0f-9749dbbf078c",
   "metadata": {},
   "source": [
    "# Change Log\n",
    "\n",
    "1.  DS109L9, multiple grammatical edits by Jillian Dickson, [Jira ticket #](https://woz-u-projects.atlassian.net/browse/CUR-1895)\n",
    "2. Discontinuing use of Anaconda since we already install Jupyter Lab with our Chocolatey and Homebrew instructions, removing soon\n",
    "3. DS109L1, mutliple grammatical edits by Jillian Dickson, [Jira](https://woz-u-projects.atlassian.net/browse/CUR-1910)"
   ]
  },
  {
   "cell_type": "markdown",
   "id": "f34e69c6-dfbf-4f60-853f-da9ee56e62de",
   "metadata": {},
   "source": [
    "To Do:\n",
    "1. DSO109 L8 - Python for Data Science - Page 2: Links to Workshop Video: https://vimeo.com/427596949 that still directs students to open Anaconda\n",
    "2. DSO109 L1 - Page 3 - Adding the Python Extension to VS Code on Mac - Python Interpreter - Instuctions are repeated twice"
   ]
  },
  {
   "cell_type": "code",
   "execution_count": null,
   "id": "3bbdba6e-7dea-4543-8192-8562ed1547aa",
   "metadata": {},
   "outputs": [],
   "source": []
  }
 ],
 "metadata": {
  "kernelspec": {
   "display_name": "Python 3 (ipykernel)",
   "language": "python",
   "name": "python3"
  },
  "language_info": {
   "codemirror_mode": {
    "name": "ipython",
    "version": 3
   },
   "file_extension": ".py",
   "mimetype": "text/x-python",
   "name": "python",
   "nbconvert_exporter": "python",
   "pygments_lexer": "ipython3",
   "version": "3.9.10"
  }
 },
 "nbformat": 4,
 "nbformat_minor": 5
}
