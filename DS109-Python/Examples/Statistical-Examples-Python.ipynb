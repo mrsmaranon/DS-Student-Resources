{
 "cells": [
  {
   "cell_type": "markdown",
   "id": "66efa3a5-777a-49d1-8871-03a0e7f1bdf1",
   "metadata": {},
   "source": [
    "# Statistical Examples in Python"
   ]
  },
  {
   "cell_type": "markdown",
   "id": "316bc778-ba35-4412-9ed5-6e72306657ce",
   "metadata": {
    "tags": []
   },
   "source": [
    "## Statisical Examples TOC <a class=\"anchor\" id=\"PyStats_toc\"></a>\n",
    "These examples are divide into 5 parts:\n",
    "\n",
    "* [Table of Contents](#PyStatsL1_toc)\n",
    "    * [1. Normality Tests](#PyStats_page_1)\n",
    "        * [Shapiro-Wilk Test](#PyStats_page_2)\n",
    "        * [D’Agostino’s K^2 Test](#PyStats_page_3)\n",
    "        * [Anderson-Darling Test](#PyStats_page_4)\n",
    "    * [2. Correlation Tests](#PyStats_page_5)\n",
    "        * [Pearson’s Correlation Coefficient](#PyStats_page_6)\n",
    "        * [Spearman’s Rank Correlation](#PyStats_page_7)\n",
    "        * [Kendall’s Rank Correlation](#PyStats_page_8)\n",
    "        * [Chi-Squared Test](#PyStats_page_9)\n",
    "    * [3. Stationary Tests](#PyStats_page_10)\n",
    "        * [Augmented Dickey-Fuller](#PyStats_page_11)\n",
    "        * [Kwiatkowski-Phillips-Schmidt-Shin](#PyStats_page_12) \n",
    "    * [4. Parametric Statistical Hypothesis Tests](#PyStats_page_13)\n",
    "        * [Student’s t-test](#PyStats_page_14)\n",
    "        * [Paired Student’s t-test](#PyStats_page_15)\n",
    "        * [Analysis of Variance Test (ANOVA)](#PyStats_page_16)\n",
    "        * [Repeated Measures ANOVA Test](#PyStats_page_17)\n",
    "    * [5. Nonparametric Statistical Hypothesis Tests](#PyStats_page_18)\n",
    "        * [Mann-Whitney U Test](#PyStats_page_19)\n",
    "        * [Wilcoxon Signed-Rank Test](#PyStats_page_20)\n",
    "        * [Kruskal-Wallis H Test](#PyStats_page_21)\n",
    "        * [Friedman Test](#PyStats_page_22)\n",
    "\n",
    "\n",
    "\n"
   ]
  },
  {
   "cell_type": "markdown",
   "id": "152dc761-3045-48d6-bdc5-9203f0326e13",
   "metadata": {},
   "source": [
    "<hr style=\"height:10px;border-width:0;color:gray;background-color:gray\">\n",
    "\n",
    "# 1. Normality Tests<a class=\"anchor\" id=\"PyStats_page_1\"></a>\n",
    "\n",
    "## This section lists statistical tests that you can use to check if your data has a Gaussian distribution/Normal distribution.\n",
    "\n",
    "For the normal distribution, the values less than one standard deviation away from the mean account for 68.27% of the set; while two standard deviations from the mean account for 95.45%; and three standard deviations account for 99.73%.\n",
    "\n",
    "An important decision point when working with a sample of data is whether to use parametric or nonparametric statistical methods.\n",
    "\n",
    "Parametric statistical methods assume that the data has a known and specific distribution, often a Gaussian distribution. If a data sample is not Gaussian, then the assumptions of parametric statistical tests are violated and nonparametric statistical methods must be used.\n",
    "\n",
    "There are a range of techniques that you can use to check if your data sample deviates from a Gaussian distribution, called normality tests.\n",
    "\n",
    "\n",
    "\n",
    "<p style=\"text-align: center;\">\n",
    "  <img width=\"600\" alt=\"The Normal Distribution - Gaussian\" src=\"../Media/normal.png\">\n",
    "</p>\n",
    "\n",
    "[Back to Top](#PyStats_toc)\n",
    "\n"
   ]
  },
  {
   "cell_type": "code",
   "execution_count": 5,
   "id": "753eebbb-c719-49a4-9363-3b7474027b4a",
   "metadata": {},
   "outputs": [
    {
     "name": "stdout",
     "output_type": "stream",
     "text": [
      "mean=50.303 stdv=4.426\n"
     ]
    }
   ],
   "source": [
    "# generate gaussian data\n",
    "from numpy.random import seed\n",
    "from numpy.random import randn\n",
    "from numpy import mean\n",
    "from numpy import std\n",
    "# seed the random number generator\n",
    "seed(1)\n",
    "# generate univariate observations\n",
    "data = 5 * randn(100) + 50\n",
    "# summarize\n",
    "print('mean=%.3f stdv=%.3f' % (mean(data), std(data)))"
   ]
  },
  {
   "cell_type": "code",
   "execution_count": 6,
   "id": "5239095c-36d6-490c-a73e-3cf6eecfbfed",
   "metadata": {},
   "outputs": [
    {
     "data": {
      "image/png": "[encoded data removed]",
      "text/plain": [
       "<Figure size 432x288 with 1 Axes>"
      ]
     },
     "metadata": {
      "needs_background": "light"
     },
     "output_type": "display_data"
    }
   ],
   "source": [
    "# histogram plot\n",
    "from numpy.random import seed\n",
    "from numpy.random import randn\n",
    "from matplotlib import pyplot\n",
    "# seed the random number generator\n",
    "seed(1)\n",
    "# generate univariate observations\n",
    "data = 5 * randn(100) + 50\n",
    "# histogram plot\n",
    "pyplot.hist(data)\n",
    "pyplot.show()"
   ]
  },
  {
   "cell_type": "code",
   "execution_count": 7,
   "id": "c7e6af90-ff10-48cc-9e50-7b179994401b",
   "metadata": {},
   "outputs": [
    {
     "name": "stderr",
     "output_type": "stream",
     "text": [
      "/usr/local/lib/python3.9/site-packages/statsmodels/graphics/gofplots.py:993: UserWarning: marker is redundantly defined by the 'marker' keyword argument and the fmt string \"bo\" (-> marker='o'). The keyword argument will take precedence.\n",
      "  ax.plot(x, y, fmt, **plot_style)\n"
     ]
    },
    {
     "data": {
      "image/png": "[encoded data removed]",
      "text/plain": [
       "<Figure size 432x288 with 1 Axes>"
      ]
     },
     "metadata": {
      "needs_background": "light"
     },
     "output_type": "display_data"
    }
   ],
   "source": [
    "# QQ Plot\n",
    "from numpy.random import seed\n",
    "from numpy.random import randn\n",
    "from statsmodels.graphics.gofplots import qqplot\n",
    "from matplotlib import pyplot\n",
    "# seed the random number generator\n",
    "seed(1)\n",
    "# generate univariate observations\n",
    "data = 5 * randn(100) + 50\n",
    "# q-q plot\n",
    "qqplot(data, line='s')\n",
    "pyplot.show()"
   ]
  },
  {
   "cell_type": "markdown",
   "id": "c4af0f8c-db76-4b4d-8e8c-1ea17a5e0894",
   "metadata": {},
   "source": [
    "## Interpretation of a Test\n",
    "Before you can apply the statistical tests, you must know how to interpret the results.\n",
    "\n",
    "Each test will return at least two things:\n",
    "\n",
    "- Statistic: A quantity calculated by the test that can be interpreted in the context of the test via comparing it to critical values from the distribution of the test statistic.\n",
    "- p-value: Used to interpret the test, in this case whether the sample was drawn from a Gaussian distribution.\n",
    "\n",
    "Each test calculates a test-specific statistic. This statistic can aid in the interpretation of the result, although it may require a deeper proficiency with statistics and a deeper knowledge of the specific statistical test. Instead, the p-value can be used to quickly and accurately interpret the statistic in practical applications.\n",
    "\n",
    "The tests assume that that the sample was drawn from a Gaussian distribution. Technically this is called the null hypothesis, or H0. A threshold level is chosen called alpha, typically 5% (or 0.05), that is used to interpret the p-value.\n",
    "\n",
    "In the SciPy implementation of these tests, you can interpret the p value as follows.\n",
    "\n",
    "- p <= alpha: reject H0, not normal.\n",
    "- p > alpha: fail to reject H0, normal.\n",
    "\n",
    "This means that, in general, we are seeking results with a larger p-value to confirm that our sample was likely drawn from a Gaussian distribution.\n",
    "\n",
    "A result above 5% does not mean that the null hypothesis is true. It means that it is very likely true given available evidence. The p-value is not the probability of the data fitting a Gaussian distribution; it can be thought of as a value that helps us interpret the statistical test."
   ]
  },
  {
   "cell_type": "markdown",
   "id": "736dfeba-8cd8-46b5-952e-dfa2f14d0040",
   "metadata": {},
   "source": [
    "<hr style=\"height:5px;border-width:0;color:gray;background-color:gray\">\n",
    "\n",
    "# Shapiro-Wilk Test<a class=\"anchor\" id=\"PyStats_page_2\"></a>\n",
    "\n",
    "[Back to Top](#PyStats_toc)\n",
    "\n",
    "## Tests whether a data sample has a Gaussian distribution.\n",
    "\n",
    "### Assumptions\n",
    "\n",
    "- Observations in each sample are independent and identically distributed (iid).\n",
    "\n",
    "### Interpretation\n",
    "\n",
    "- H0: the sample has a Gaussian distribution.\n",
    "- H1: the sample does not have a Gaussian distribution.\n",
    "\n",
    "### References\n",
    "\n",
    "- [A Gentle Introduction to Normality Tests in Python](https://machinelearningmastery.com/a-gentle-introduction-to-normality-tests-in-python/)\n",
    "- [scipy.stats.shapiro](https://docs.scipy.org/doc/scipy/reference/generated/scipy.stats.shapiro.html)\n",
    "- [Shapiro-Wilk test on Wikipedia](https://en.wikipedia.org/wiki/Shapiro%E2%80%93Wilk_test)\n",
    "- [Normal Distribution - Wolfram](https://mathworld.wolfram.com/NormalDistribution.html)\n",
    "\n"
   ]
  },
  {
   "cell_type": "code",
   "execution_count": 45,
   "id": "4eee290b-8dd9-4d98-a5eb-4de87074a5bc",
   "metadata": {},
   "outputs": [
    {
     "name": "stdout",
     "output_type": "stream",
     "text": [
      "stat=0.895, p=0.193\n",
      "Probably Gaussian\n"
     ]
    }
   ],
   "source": [
    "# Example of the Shapiro-Wilk Normality Test\n",
    "from scipy.stats import shapiro\n",
    "data = [0.873, 2.817, 0.121, -0.945, -0.055, -1.436, 0.360, -1.478, -1.637, -1.869]\n",
    "stat, p = shapiro(data)\n",
    "print('stat=%.3f, p=%.3f' % (stat, p))\n",
    "if p > 0.05:\n",
    "\tprint('Probably Gaussian')\n",
    "else:\n",
    "\tprint('Probably not Gaussian')"
   ]
  },
  {
   "cell_type": "markdown",
   "id": "8642a3d1-b538-4177-af59-a5390655b802",
   "metadata": {},
   "source": [
    "<hr style=\"height:5px;border-width:0;color:gray;background-color:gray\">\n",
    "\n",
    "# D’Agostino’s K^2 Test<a class=\"anchor\" id=\"PyStats_page_3\"></a>\n",
    "\n",
    "[Back to Top](#PyStats_toc)\n",
    "\n",
    "\n",
    "## Tests whether a data sample has a Gaussian distribution.\n",
    "\n",
    "### Assumptions\n",
    "- Observations in each sample are independent and identically distributed (iid).\n",
    "\n",
    "### Interpretation\n",
    "- H0: the sample has a Gaussian distribution.\n",
    "- H1: the sample does not have a Gaussian distribution.\n",
    "\n",
    "### References\n",
    "- [A Gentle Introduction to Normality Tests in Python](https://machinelearningmastery.com/a-gentle-introduction-to-normality-tests-in-python/)\n",
    "- [scipy.stats.normaltest](https://docs.scipy.org/doc/scipy/reference/generated/scipy.stats.normaltest.html)\n",
    "- [D’Agostino’s K-squared test on Wikipedia](https://en.wikipedia.org/wiki/D%27Agostino%27s_K-squared_test)\n",
    "\n"
   ]
  },
  {
   "cell_type": "code",
   "execution_count": 46,
   "id": "690cd0ee-dad7-44ce-8081-28b1673518e0",
   "metadata": {},
   "outputs": [
    {
     "name": "stdout",
     "output_type": "stream",
     "text": [
      "stat=3.392, p=0.183\n",
      "Probably Gaussian\n"
     ]
    },
    {
     "name": "stderr",
     "output_type": "stream",
     "text": [
      "/usr/local/lib/python3.9/site-packages/scipy/stats/stats.py:1541: UserWarning: kurtosistest only valid for n>=20 ... continuing anyway, n=10\n",
      "  warnings.warn(\"kurtosistest only valid for n>=20 ... continuing \"\n"
     ]
    }
   ],
   "source": [
    "# Example of the D'Agostino's K^2 Normality Test\n",
    "from scipy.stats import normaltest\n",
    "data = [0.873, 2.817, 0.121, -0.945, -0.055, -1.436, 0.360, -1.478, -1.637, -1.869]\n",
    "stat, p = normaltest(data)\n",
    "print('stat=%.3f, p=%.3f' % (stat, p))\n",
    "if p > 0.05:\n",
    "\tprint('Probably Gaussian')\n",
    "else:\n",
    "\tprint('Probably not Gaussian')"
   ]
  },
  {
   "cell_type": "markdown",
   "id": "f45ec09e-2882-4924-b99a-866320142986",
   "metadata": {},
   "source": [
    "<hr style=\"height:5px;border-width:0;color:gray;background-color:gray\">\n",
    "\n",
    "# Anderson-Darling Test<a class=\"anchor\" id=\"PyStats_page_4\"></a>\n",
    "\n",
    "[Back to Top](#PyStats_toc)\n",
    "\n",
    "## Tests whether a data sample has a Gaussian distribution.\n",
    "\n",
    "### Assumptions\n",
    "- Observations in each sample are independent and identically distributed (iid).\n",
    "\n",
    "### Interpretation\n",
    "- H0: the sample has a Gaussian distribution.\n",
    "- H1: the sample does not have a Gaussian distribution.\n",
    "\n",
    "### References\n",
    "- [A Gentle Introduction to Normality Tests in Python](https://machinelearningmastery.com/a-gentle-introduction-to-normality-tests-in-python/)\n",
    "- [scipy.stats.anderson](https://docs.scipy.org/doc/scipy/reference/generated/scipy.stats.anderson.html)\n",
    "- [Anderson-Darling test on Wikipedia](https://en.wikipedia.org/wiki/Anderson%E2%80%93Darling_test)\n",
    "\n"
   ]
  },
  {
   "cell_type": "code",
   "execution_count": 28,
   "id": "52b5506f-fd07-45d1-95a5-09da1c779919",
   "metadata": {},
   "outputs": [
    {
     "name": "stdout",
     "output_type": "stream",
     "text": [
      "stat=0.424\n",
      "Probably Gaussian at the 15.0% level\n",
      "Probably Gaussian at the 10.0% level\n",
      "Probably Gaussian at the 5.0% level\n",
      "Probably Gaussian at the 2.5% level\n",
      "Probably Gaussian at the 1.0% level\n"
     ]
    }
   ],
   "source": [
    "# Example of the Anderson-Darling Normality Test\n",
    "from scipy.stats import anderson\n",
    "data = [0.873, 2.817, 0.121, -0.945, -0.055, -1.436, 0.360, -1.478, -1.637, -1.869]\n",
    "result = anderson(data)\n",
    "print('stat=%.3f' % (result.statistic))\n",
    "for i in range(len(result.critical_values)):\n",
    "\tsl, cv = result.significance_level[i], result.critical_values[i]\n",
    "\tif result.statistic < cv:\n",
    "\t\tprint('Probably Gaussian at the %.1f%% level' % (sl))\n",
    "\telse:\n",
    "\t\tprint('Probably not Gaussian at the %.1f%% level' % (sl))"
   ]
  },
  {
   "cell_type": "markdown",
   "id": "dc30cb40-ed36-419e-a2bb-ff7e41b82144",
   "metadata": {},
   "source": [
    "<hr style=\"height:10px;border-width:0;color:gray;background-color:gray\">\n",
    "\n",
    "# 2. Correlation Tests<a class=\"anchor\" id=\"PyStats_page_5\"></a>\n",
    "\n",
    "## This section lists statistical tests that you can use to check if two samples are related.\n",
    "\n",
    "[Back to Top](#PyStats_toc)\n",
    "\n"
   ]
  },
  {
   "cell_type": "markdown",
   "id": "be670084-e3e7-485d-84f7-3dc86f36ac6a",
   "metadata": {},
   "source": [
    "<hr style=\"height:5px;border-width:0;color:gray;background-color:gray\">\n",
    "\n",
    "# Pearson’s Correlation Coefficient<a class=\"anchor\" id=\"PyStats_page_6\"></a>\n",
    "\n",
    "[Back to Top](#PyStats_toc)\n",
    "\n",
    "Tests whether two samples have a linear relationship.\n",
    "\n",
    "## Assumptions\n",
    "\n",
    "- Observations in each sample are independent and identically distributed (iid).\n",
    "- Observations in each sample are normally distributed.\n",
    "- Observations in each sample have the same variance.\n",
    "\n",
    "## Interpretation\n",
    "\n",
    "- H0: the two samples are independent.\n",
    "- H1: there is a dependency between the samples.\n",
    "\n",
    "## References\n",
    "\n",
    "- [How to Calculate Correlation Between Variables in Python](https://machinelearningmastery.com/how-to-use-correlation-to-understand-the-relationship-between-variables/)\n",
    "- [scipy.stats.pearsonr](https://docs.scipy.org/doc/scipy/reference/generated/scipy.stats.pearsonr.html)\n",
    "- [Pearson’s correlation coefficient on Wikipedia](https://en.wikipedia.org/wiki/Pearson_correlation_coefficient)\n",
    "- [Wolfram](https://mathworld.wolfram.com/CorrelationCoefficient.html)"
   ]
  },
  {
   "cell_type": "code",
   "execution_count": 29,
   "id": "f704f374-0fb6-488a-a2a9-7e0bc6e676aa",
   "metadata": {},
   "outputs": [
    {
     "name": "stdout",
     "output_type": "stream",
     "text": [
      "stat=0.688, p=0.028\n",
      "Probably dependent\n"
     ]
    }
   ],
   "source": [
    "# Example of the Pearson's Correlation test\n",
    "from scipy.stats import pearsonr\n",
    "data1 = [0.873, 2.817, 0.121, -0.945, -0.055, -1.436, 0.360, -1.478, -1.637, -1.869]\n",
    "data2 = [0.353, 3.517, 0.125, -7.545, -0.555, -1.536, 3.350, -1.578, -3.537, -1.579]\n",
    "stat, p = pearsonr(data1, data2)\n",
    "print('stat=%.3f, p=%.3f' % (stat, p))\n",
    "if p > 0.05:\n",
    "\tprint('Probably independent')\n",
    "else:\n",
    "\tprint('Probably dependent')"
   ]
  },
  {
   "cell_type": "markdown",
   "id": "aa559a6c-d9c5-4ae9-b4fe-16027a2ff3e6",
   "metadata": {},
   "source": [
    "<hr style=\"height:5px;border-width:0;color:gray;background-color:gray\">\n",
    "\n",
    "# Spearman’s Rank Correlation<a class=\"anchor\" id=\"PyStats_page_7\"></a>\n",
    "\n",
    "[Back to Top](#PyStats_toc)\n",
    "\n",
    "Tests whether two samples have a monotonic relationship.\n",
    "\n",
    "## Assumptions\n",
    "\n",
    "- Observations in each sample are independent and identically distributed (iid).\n",
    "- Observations in each sample can be ranked.\n",
    "\n",
    "## Interpretation\n",
    "\n",
    "- H0: the two samples are independent.\n",
    "- H1: there is a dependency between the samples.\n",
    "\n",
    "## References\n",
    "\n",
    "- [How to Calculate Nonparametric Rank Correlation in Python](https://machinelearningmastery.com/how-to-calculate-nonparametric-rank-correlation-in-python/)\n",
    "- [scipy.stats.spearmanr](https://docs.scipy.org/doc/scipy/reference/generated/scipy.stats.spearmanr.html)\n",
    "- [Spearman’s rank correlation coefficient on Wikipedia](https://en.wikipedia.org/wiki/Spearman%27s_rank_correlation_coefficient)\n",
    "- [Wolfram](https://mathworld.wolfram.com/SpearmanRankCorrelationCoefficient.html)"
   ]
  },
  {
   "cell_type": "code",
   "execution_count": 30,
   "id": "5b3087b9-3791-49b1-a637-f8a1056b04e1",
   "metadata": {},
   "outputs": [
    {
     "name": "stdout",
     "output_type": "stream",
     "text": [
      "stat=0.855, p=0.002\n",
      "Probably dependent\n"
     ]
    }
   ],
   "source": [
    "# Example of the Spearman's Rank Correlation Test\n",
    "from scipy.stats import spearmanr\n",
    "data1 = [0.873, 2.817, 0.121, -0.945, -0.055, -1.436, 0.360, -1.478, -1.637, -1.869]\n",
    "data2 = [0.353, 3.517, 0.125, -7.545, -0.555, -1.536, 3.350, -1.578, -3.537, -1.579]\n",
    "stat, p = spearmanr(data1, data2)\n",
    "print('stat=%.3f, p=%.3f' % (stat, p))\n",
    "if p > 0.05:\n",
    "\tprint('Probably independent')\n",
    "else:\n",
    "\tprint('Probably dependent')"
   ]
  },
  {
   "cell_type": "markdown",
   "id": "3bed2dd9-12dc-4c8f-907c-78c53455d249",
   "metadata": {},
   "source": [
    "<hr style=\"height:5px;border-width:0;color:gray;background-color:gray\">\n",
    "\n",
    "# Kendall’s Rank Correlation<a class=\"anchor\" id=\"PyStats_page_8\"></a>\n",
    "\n",
    "[Back to Top](#PyStats_toc)\n",
    "\n",
    "Tests whether two samples have a monotonic relationship.\n",
    "\n",
    "## Assumptions\n",
    "\n",
    "- Observations in each sample are independent and identically distributed (iid).\n",
    "- Observations in each sample can be ranked.\n",
    "\n",
    "## Interpretation\n",
    "\n",
    "- H0: the two samples are independent.\n",
    "- H1: there is a dependency between the samples.\n",
    "\n",
    "## References\n",
    "\n",
    "- [How to Calculate Nonparametric Rank Correlation in Python](https://machinelearningmastery.com/how-to-calculate-nonparametric-rank-correlation-in-python/)\n",
    "- [scipy.stats.kendalltau](https://docs.scipy.org/doc/scipy/reference/generated/scipy.stats.kendalltau.html)\n",
    "- [Kendall rank correlation coefficient on Wikipedia](https://en.wikipedia.org/wiki/Kendall_rank_correlation_coefficient)\n",
    "- [Towards Data Science](https://towardsdatascience.com/kendall-rank-correlation-explained-dee01d99c535)\n",
    "- [Statistics Howto](https://www.statisticshowto.com/kendalls-tau/)\n",
    "\n",
    "\n"
   ]
  },
  {
   "cell_type": "code",
   "execution_count": 31,
   "id": "2a1cb261-99db-4966-a61a-01068f9d686f",
   "metadata": {},
   "outputs": [
    {
     "name": "stdout",
     "output_type": "stream",
     "text": [
      "stat=0.733, p=0.002\n",
      "Probably dependent\n"
     ]
    }
   ],
   "source": [
    "# Example of the Kendall's Rank Correlation Test\n",
    "from scipy.stats import kendalltau\n",
    "data1 = [0.873, 2.817, 0.121, -0.945, -0.055, -1.436, 0.360, -1.478, -1.637, -1.869]\n",
    "data2 = [0.353, 3.517, 0.125, -7.545, -0.555, -1.536, 3.350, -1.578, -3.537, -1.579]\n",
    "stat, p = kendalltau(data1, data2)\n",
    "print('stat=%.3f, p=%.3f' % (stat, p))\n",
    "if p > 0.05:\n",
    "\tprint('Probably independent')\n",
    "else:\n",
    "\tprint('Probably dependent')"
   ]
  },
  {
   "cell_type": "markdown",
   "id": "06b97e5b-9f89-47a5-be90-f5a2fc2a67ef",
   "metadata": {},
   "source": [
    "<hr style=\"height:5px;border-width:0;color:gray;background-color:gray\">\n",
    "\n",
    "# Chi-Squared Test<a class=\"anchor\" id=\"PyStats_page_9\"></a>\n",
    "\n",
    "[Back to Top](#PyStats_toc)\n",
    "\n",
    "Tests whether two categorical variables are related or independent.\n",
    "\n",
    "## Assumptions\n",
    "\n",
    "- Observations used in the calculation of the contingency table are independent.\n",
    "- 25 or more examples in each cell of the contingency table.\n",
    "\n",
    "## Interpretation\n",
    "\n",
    "- H0: the two samples are independent.\n",
    "- H1: there is a dependency between the samples.\n",
    "\n",
    "## References\n",
    "- [A Gentle Introduction to the Chi-Squared Test for Machine Learning](https://machinelearningmastery.com/chi-squared-test-for-machine-learning/)\n",
    "- [scipy.stats.chi2_contingency](https://docs.scipy.org/doc/scipy/reference/generated/scipy.stats.chi2_contingency.html)\n",
    "- [Chi-Squared test on Wikipedia](https://en.wikipedia.org/wiki/Chi-squared_test)\n",
    "- [Wolfram](https://mathworld.wolfram.com/Chi-SquaredTest.html)"
   ]
  },
  {
   "cell_type": "code",
   "execution_count": 32,
   "id": "b815d562-a001-4958-b0a1-29ef1e59aa84",
   "metadata": {},
   "outputs": [
    {
     "name": "stdout",
     "output_type": "stream",
     "text": [
      "stat=0.272, p=0.873\n",
      "Probably independent\n"
     ]
    }
   ],
   "source": [
    "# Example of the Chi-Squared Test\n",
    "from scipy.stats import chi2_contingency\n",
    "table = [[10, 20, 30],[6,  9,  17]]\n",
    "stat, p, dof, expected = chi2_contingency(table)\n",
    "print('stat=%.3f, p=%.3f' % (stat, p))\n",
    "if p > 0.05:\n",
    "\tprint('Probably independent')\n",
    "else:\n",
    "\tprint('Probably dependent')"
   ]
  },
  {
   "cell_type": "markdown",
   "id": "e2ffb966-a260-412d-9c63-7c7013c2f573",
   "metadata": {},
   "source": [
    "<hr style=\"height:10px;border-width:0;color:gray;background-color:gray\">\n",
    "\n",
    "# 3. Stationary Tests<a class=\"anchor\" id=\"PyStats_page_10\"></a>\n",
    "\n",
    "## This section lists statistical tests that you can use to check if a time series is stationary or not.\n",
    "\n",
    "[Back to Top](#PyStats_toc)\n",
    "\n",
    "<hr style=\"height:10px;border-width:0;color:gray;background-color:gray\">"
   ]
  },
  {
   "cell_type": "markdown",
   "id": "f2cb0ffa-1d33-4782-8c5b-1423e88e6dcf",
   "metadata": {},
   "source": [
    "<hr style=\"height:5px;border-width:0;color:gray;background-color:gray\">\n",
    "\n",
    "# Augmented Dickey-Fuller<a class=\"anchor\" id=\"PyStats_page_11\"></a>\n",
    "\n",
    "[Back to Top](#PyStats_toc)\n",
    "\n",
    "## Tests whether a time series has a unit root, e.g. has a trend or more generally is autoregressive.\n",
    "\n",
    "## Assumptions\n",
    "\n",
    "- Observations in are temporally ordered.\n",
    "\n",
    "## Interpretation\n",
    "\n",
    "- H0: a unit root is present (series is non-stationary).\n",
    "- H1: a unit root is not present (series is stationary).\n",
    "\n",
    "## References\n",
    "- [How to Check if Time Series Data is Stationary with Python](https://machinelearningmastery.com/time-series-data-stationary-python/)\n",
    "- [statsmodels.tsa.stattools.adfuller API](https://www.statsmodels.org/dev/generated/statsmodels.tsa.stattools.adfuller.html)\n",
    "- [Augmented Dickey–Fuller test, Wikipedia](https://en.wikipedia.org/wiki/Augmented_Dickey%E2%80%93Fuller_test)\n",
    "- [Statistics Howto](https://www.statisticshowto.com/adf-augmented-dickey-fuller-test/)\n"
   ]
  },
  {
   "cell_type": "code",
   "execution_count": 33,
   "id": "ec46759f-eb13-4733-99b5-8215d1ab33d5",
   "metadata": {},
   "outputs": [
    {
     "name": "stdout",
     "output_type": "stream",
     "text": [
      "stat=0.517, p=0.985\n",
      "Probably not Stationary\n"
     ]
    }
   ],
   "source": [
    "# Example of the Augmented Dickey-Fuller unit root test\n",
    "from statsmodels.tsa.stattools import adfuller\n",
    "data = [0, 1, 2, 3, 4, 5, 6, 7, 8, 9]\n",
    "stat, p, lags, obs, crit, t = adfuller(data)\n",
    "print('stat=%.3f, p=%.3f' % (stat, p))\n",
    "if p > 0.05:\n",
    "\tprint('Probably not Stationary')\n",
    "else:\n",
    "\tprint('Probably Stationary')"
   ]
  },
  {
   "cell_type": "markdown",
   "id": "5e17c606-6bf8-4075-90a8-6557fbab5731",
   "metadata": {},
   "source": [
    "<hr style=\"height:5px;border-width:0;color:gray;background-color:gray\">\n",
    "\n",
    "# Kwiatkowski-Phillips-Schmidt-Shin<a class=\"anchor\" id=\"PyStats_page_12\"></a>\n",
    "\n",
    "[Back to Top](#PyStats_toc)\n",
    "\n",
    "## Tests whether a time series is trend stationary or not.\n",
    "\n",
    "## Assumptions\n",
    "\n",
    "- Observations in are temporally ordered.\n",
    "\n",
    "## Interpretation\n",
    "\n",
    "- H0: the time series is trend-stationary.\n",
    "- H1: the time series is not trend-stationary.\n",
    "\n",
    "## References\n",
    "- [statsmodels.tsa.stattools.kpss API](https://www.statsmodels.org/stable/generated/statsmodels.tsa.stattools.kpss.html#statsmodels.tsa.stattools.kpss)\n",
    "- [KPSS test, Wikipedia](https://en.wikipedia.org/wiki/KPSS_test)\n",
    "- [JSTOR](https://www.jstor.org/stable/23243736)\n",
    "- [Statistics How To](https://www.statisticshowto.com/kpss-test/)"
   ]
  },
  {
   "cell_type": "code",
   "execution_count": 34,
   "id": "6197dc2a-68a7-438b-83a8-8ebd194ce71e",
   "metadata": {},
   "outputs": [
    {
     "name": "stdout",
     "output_type": "stream",
     "text": [
      "stat=0.410, p=0.073\n",
      "Probably Stationary\n"
     ]
    },
    {
     "name": "stderr",
     "output_type": "stream",
     "text": [
      "/usr/local/lib/python3.9/site-packages/statsmodels/tsa/stattools.py:1875: FutureWarning: The behavior of using nlags=None will change in release 0.13.Currently nlags=None is the same as nlags=\"legacy\", and so a sample-size lag length is used. After the next release, the default will change to be the same as nlags=\"auto\" which uses an automatic lag length selection method. To silence this warning, either use \"auto\" or \"legacy\"\n",
      "  warnings.warn(msg, FutureWarning)\n"
     ]
    }
   ],
   "source": [
    "# Example of the Kwiatkowski-Phillips-Schmidt-Shin test\n",
    "from statsmodels.tsa.stattools import kpss\n",
    "data = [0, 1, 2, 3, 4, 5, 6, 7, 8, 9]\n",
    "stat, p, lags, crit = kpss(data)\n",
    "print('stat=%.3f, p=%.3f' % (stat, p))\n",
    "if p > 0.05:\n",
    "\tprint('Probably Stationary')\n",
    "else:\n",
    "\tprint('Probably not Stationary')"
   ]
  },
  {
   "cell_type": "markdown",
   "id": "489bb013-920e-4286-bd51-7c1f70ecb2c4",
   "metadata": {},
   "source": [
    "<hr style=\"height:10px;border-width:0;color:gray;background-color:gray\">\n",
    "\n",
    "# 4. Parametric Statistical Hypothesis Tests<a class=\"anchor\" id=\"PyStats_page_13\"></a>\n",
    "\n",
    "A parametric test is preferred because it has better ability to distinguish between the two arms. In other words, it is better at highlighting the weirdness of the distribution. Nonparametric tests are about 95% as powerful as parametric tests. However, nonparametric tests are often necessary.\n",
    "\n",
    "[Back to Top](#PyStats_toc)"
   ]
  },
  {
   "cell_type": "markdown",
   "id": "b509d972-73cc-4318-965a-a5010fa6a70d",
   "metadata": {},
   "source": [
    "<hr style=\"height:10px;border-width:0;color:gray;background-color:gray\">\n",
    "\n",
    "# Student’s t-test<a class=\"anchor\" id=\"PyStats_page_14\"></a>\n",
    "\n",
    "[Back to Top](#PyStats_toc)\n",
    "\n",
    "## Tests whether the means of two independent samples are significantly different.\n",
    "\n",
    "## Assumptions\n",
    "\n",
    "- Observations in each sample are independent and identically distributed (iid).\n",
    "- Observations in each sample are normally distributed.\n",
    "- Observations in each sample have the same variance.\n",
    "\n",
    "## Interpretation\n",
    "\n",
    "- H0: the means of the samples are equal.\n",
    "- H1: the means of the samples are unequal.\n",
    "\n",
    "\n",
    "## References\n",
    "- [How to Calculate Parametric Statistical Hypothesis Tests in Python]()\n",
    "- [scipy.stats.ttest_ind]()\n",
    "- [Student’s t-test on Wikipedia]()\n",
    "- [Wolfram](https://mathworld.wolfram.com/Studentst-Distribution.html)\n",
    "\n"
   ]
  },
  {
   "cell_type": "code",
   "execution_count": 1,
   "id": "d7b311ed-861c-44b1-8ee3-2ee74c834c42",
   "metadata": {},
   "outputs": [
    {
     "name": "stdout",
     "output_type": "stream",
     "text": [
      "stat=-0.326, p=0.748\n",
      "Probably the same distribution\n"
     ]
    }
   ],
   "source": [
    "# Example of the Student's t-test\n",
    "from scipy.stats import ttest_ind\n",
    "data1 = [0.873, 2.817, 0.121, -0.945, -0.055, -1.436, 0.360, -1.478, -1.637, -1.869]\n",
    "data2 = [1.142, -0.432, -0.938, -0.729, -0.846, -0.157, 0.500, 1.183, -1.075, -0.169]\n",
    "stat, p = ttest_ind(data1, data2)\n",
    "print('stat=%.3f, p=%.3f' % (stat, p))\n",
    "if p > 0.05:\n",
    "\tprint('Probably the same distribution')\n",
    "else:\n",
    "\tprint('Probably different distributions')"
   ]
  },
  {
   "cell_type": "markdown",
   "id": "8f977a87-eea5-4f82-92a1-414c99260295",
   "metadata": {},
   "source": [
    "<hr style=\"height:10px;border-width:0;color:gray;background-color:gray\">\n",
    "\n",
    "# Paired Student’s t-test<a class=\"anchor\" id=\"PyStats_page_15\"></a>\n",
    "\n",
    "[Back to Top](#PyStats_toc)\n",
    "\n",
    "## Tests whether the means of two paired samples are significantly different.\n",
    "\n",
    "## Assumptions\n",
    "\n",
    "- Observations in each sample are independent and identically distributed (iid).\n",
    "- Observations in each sample are normally distributed.\n",
    "- Observations in each sample have the same variance.\n",
    "- Observations across each sample are paired.\n",
    "\n",
    "## Interpretation\n",
    "\n",
    "- H0: the means of the samples are equal.\n",
    "- H1: the means of the samples are unequal.\n",
    "\n",
    "## References\n",
    "- [How to Calculate Parametric Statistical Hypothesis Tests in Python](https://machinelearningmastery.com/parametric-statistical-significance-tests-in-python/)\n",
    "- [scipy.stats.ttest_rel](https://docs.scipy.org/doc/scipy/reference/generated/scipy.stats.ttest_rel.html)\n",
    "- [Student’s t-test on Wikipedia](https://en.wikipedia.org/wiki/Student%27s_t-test)\n",
    "- [Wolfram](https://mathworld.wolfram.com/Pairedt-Test.html)\n"
   ]
  },
  {
   "cell_type": "code",
   "execution_count": 36,
   "id": "87abfa20-95a4-4c0f-8f28-a6a7bf0e486c",
   "metadata": {},
   "outputs": [
    {
     "name": "stdout",
     "output_type": "stream",
     "text": [
      "stat=-0.334, p=0.746\n",
      "Probably the same distribution\n"
     ]
    }
   ],
   "source": [
    "# Example of the Paired Student's t-test\n",
    "from scipy.stats import ttest_rel\n",
    "data1 = [0.873, 2.817, 0.121, -0.945, -0.055, -1.436, 0.360, -1.478, -1.637, -1.869]\n",
    "data2 = [1.142, -0.432, -0.938, -0.729, -0.846, -0.157, 0.500, 1.183, -1.075, -0.169]\n",
    "stat, p = ttest_rel(data1, data2)\n",
    "print('stat=%.3f, p=%.3f' % (stat, p))\n",
    "if p > 0.05:\n",
    "\tprint('Probably the same distribution')\n",
    "else:\n",
    "\tprint('Probably different distributions')"
   ]
  },
  {
   "cell_type": "markdown",
   "id": "a2e03907-2362-4e46-843d-bfa65035e2f7",
   "metadata": {},
   "source": [
    "<hr style=\"height:5px;border-width:0;color:gray;background-color:gray\">\n",
    "\n",
    "# Analysis of Variance Test (ANOVA)<a class=\"anchor\" id=\"PyStats_page_16\"></a>\n",
    "\n",
    "[Back to Top](#PyStats_toc)\n",
    "\n",
    "## Tests whether the means of two or more independent samples are significantly different.\n",
    "\n",
    "## Assumptions\n",
    "\n",
    "- Observations in each sample are independent and identically distributed (iid).\n",
    "- Observations in each sample are normally distributed.\n",
    "- Observations in each sample have the same variance.\n",
    "\n",
    "## Interpretation\n",
    "\n",
    "- H0: the means of the samples are equal.\n",
    "- H1: one or more of the means of the samples are unequal.\n",
    "\n",
    "## References\n",
    "- [How to Calculate Parametric Statistical Hypothesis Tests in Python](https://machinelearningmastery.com/parametric-statistical-significance-tests-in-python/)\n",
    "- [scipy.stats.f_oneway](https://docs.scipy.org/doc/scipy/reference/generated/scipy.stats.f_oneway.html)\n",
    "- [Analysis of variance on Wikipedia](https://en.wikipedia.org/wiki/Analysis_of_variance)\n",
    "- [Wolfram](https://reference.wolfram.com/language/ANOVA/tutorial/ANOVA.html)\n"
   ]
  },
  {
   "cell_type": "code",
   "execution_count": 37,
   "id": "7caabd2c-bca0-4052-8777-7d7f3a9e7e24",
   "metadata": {},
   "outputs": [
    {
     "name": "stdout",
     "output_type": "stream",
     "text": [
      "stat=0.096, p=0.908\n",
      "Probably the same distribution\n"
     ]
    }
   ],
   "source": [
    "# Example of the Analysis of Variance Test\n",
    "from scipy.stats import f_oneway\n",
    "data1 = [0.873, 2.817, 0.121, -0.945, -0.055, -1.436, 0.360, -1.478, -1.637, -1.869]\n",
    "data2 = [1.142, -0.432, -0.938, -0.729, -0.846, -0.157, 0.500, 1.183, -1.075, -0.169]\n",
    "data3 = [-0.208, 0.696, 0.928, -1.148, -0.213, 0.229, 0.137, 0.269, -0.870, -1.204]\n",
    "stat, p = f_oneway(data1, data2, data3)\n",
    "print('stat=%.3f, p=%.3f' % (stat, p))\n",
    "if p > 0.05:\n",
    "\tprint('Probably the same distribution')\n",
    "else:\n",
    "\tprint('Probably different distributions')"
   ]
  },
  {
   "cell_type": "markdown",
   "id": "ef61a173-32f1-423f-aee3-439604175a90",
   "metadata": {},
   "source": [
    "<hr style=\"height:10px;border-width:0;color:gray;background-color:gray\">\n",
    "\n",
    "# Repeated Measures ANOVA Test<a class=\"anchor\" id=\"PyStats_page_17\"></a>\n",
    "\n",
    "[Back to Top](#PyStats_toc)\n",
    "\n",
    "## Tests whether the means of two or more paired samples are significantly different.\n",
    "\n",
    "## Assumptions\n",
    "\n",
    "- Observations in each sample are independent and identically distributed (iid).\n",
    "- Observations in each sample are normally distributed.\n",
    "- Observations in each sample have the same variance.\n",
    "- Observations across each sample are paired.\n",
    "\n",
    "## Interpretation\n",
    "\n",
    "- H0: the means of the samples are equal.\n",
    "- H1: one or more of the means of the samples are unequal.\n",
    "\n",
    "## References\n",
    "- [How to Calculate Parametric Statistical Hypothesis Tests in Python](https://machinelearningmastery.com/parametric-statistical-significance-tests-in-python/)\n",
    "- [Analysis of variance on Wikipedia](https://en.wikipedia.org/wiki/Analysis_of_variance)\n",
    "- [Statology](https://www.statology.org/repeated-measures-anova-python/)\n",
    "- [Wolfram](https://mathematica.stackexchange.com/questions/7736/using-anova-with-a-repeated-measures-within-subjects-design)\n"
   ]
  },
  {
   "cell_type": "code",
   "execution_count": 38,
   "id": "b345e8f9-82fb-4743-aaad-29308131de36",
   "metadata": {},
   "outputs": [],
   "source": [
    "# Repeated Measures ANOVA Test example\n",
    "import numpy as np\n",
    "import pandas as pd\n",
    "\n",
    "#create data\n",
    "df = pd.DataFrame({'patient': np.repeat([1, 2, 3, 4, 5], 4),\n",
    "                   'drug': np.tile([1, 2, 3, 4], 5),\n",
    "                   'response': [30, 28, 16, 34,\n",
    "                                14, 18, 10, 22,\n",
    "                                24, 20, 18, 30,\n",
    "                                38, 34, 20, 44, \n",
    "                                26, 28, 14, 30]})"
   ]
  },
  {
   "cell_type": "code",
   "execution_count": 39,
   "id": "0b600615-4a96-42dd-80d3-8901a2a3be10",
   "metadata": {},
   "outputs": [
    {
     "data": {
      "text/html": [
       "<div>\n",
       "<style scoped>\n",
       "    .dataframe tbody tr th:only-of-type {\n",
       "        vertical-align: middle;\n",
       "    }\n",
       "\n",
       "    .dataframe tbody tr th {\n",
       "        vertical-align: top;\n",
       "    }\n",
       "\n",
       "    .dataframe thead th {\n",
       "        text-align: right;\n",
       "    }\n",
       "</style>\n",
       "<table border=\"1\" class=\"dataframe\">\n",
       "  <thead>\n",
       "    <tr style=\"text-align: right;\">\n",
       "      <th></th>\n",
       "      <th>patient</th>\n",
       "      <th>drug</th>\n",
       "      <th>response</th>\n",
       "    </tr>\n",
       "  </thead>\n",
       "  <tbody>\n",
       "    <tr>\n",
       "      <th>0</th>\n",
       "      <td>1</td>\n",
       "      <td>1</td>\n",
       "      <td>30</td>\n",
       "    </tr>\n",
       "    <tr>\n",
       "      <th>1</th>\n",
       "      <td>1</td>\n",
       "      <td>2</td>\n",
       "      <td>28</td>\n",
       "    </tr>\n",
       "    <tr>\n",
       "      <th>2</th>\n",
       "      <td>1</td>\n",
       "      <td>3</td>\n",
       "      <td>16</td>\n",
       "    </tr>\n",
       "    <tr>\n",
       "      <th>3</th>\n",
       "      <td>1</td>\n",
       "      <td>4</td>\n",
       "      <td>34</td>\n",
       "    </tr>\n",
       "    <tr>\n",
       "      <th>4</th>\n",
       "      <td>2</td>\n",
       "      <td>1</td>\n",
       "      <td>14</td>\n",
       "    </tr>\n",
       "    <tr>\n",
       "      <th>5</th>\n",
       "      <td>2</td>\n",
       "      <td>2</td>\n",
       "      <td>18</td>\n",
       "    </tr>\n",
       "    <tr>\n",
       "      <th>6</th>\n",
       "      <td>2</td>\n",
       "      <td>3</td>\n",
       "      <td>10</td>\n",
       "    </tr>\n",
       "    <tr>\n",
       "      <th>7</th>\n",
       "      <td>2</td>\n",
       "      <td>4</td>\n",
       "      <td>22</td>\n",
       "    </tr>\n",
       "    <tr>\n",
       "      <th>8</th>\n",
       "      <td>3</td>\n",
       "      <td>1</td>\n",
       "      <td>24</td>\n",
       "    </tr>\n",
       "    <tr>\n",
       "      <th>9</th>\n",
       "      <td>3</td>\n",
       "      <td>2</td>\n",
       "      <td>20</td>\n",
       "    </tr>\n",
       "  </tbody>\n",
       "</table>\n",
       "</div>"
      ],
      "text/plain": [
       "   patient  drug  response\n",
       "0        1     1        30\n",
       "1        1     2        28\n",
       "2        1     3        16\n",
       "3        1     4        34\n",
       "4        2     1        14\n",
       "5        2     2        18\n",
       "6        2     3        10\n",
       "7        2     4        22\n",
       "8        3     1        24\n",
       "9        3     2        20"
      ]
     },
     "execution_count": 39,
     "metadata": {},
     "output_type": "execute_result"
    }
   ],
   "source": [
    "#view first ten rows of data \n",
    "df.head(10)"
   ]
  },
  {
   "cell_type": "code",
   "execution_count": 40,
   "id": "38b89c23-1a2c-40b2-b5b8-4235f2526b08",
   "metadata": {},
   "outputs": [
    {
     "name": "stdout",
     "output_type": "stream",
     "text": [
      "              Anova\n",
      "==================================\n",
      "     F Value Num DF  Den DF Pr > F\n",
      "----------------------------------\n",
      "drug 24.7589 3.0000 12.0000 0.0000\n",
      "==================================\n",
      "\n"
     ]
    }
   ],
   "source": [
    "from statsmodels.stats.anova import AnovaRM\n",
    "\n",
    "#perform the repeated measures ANOVA\n",
    "print(AnovaRM(data=df, depvar='response', subject='patient', within=['drug']).fit())"
   ]
  },
  {
   "cell_type": "markdown",
   "id": "0df6c177-1b9e-4dcb-821d-56858c6d765a",
   "metadata": {},
   "source": [
    "## Interpret the results\n",
    "\n",
    "A repeated measures ANOVA uses the following null and alternative hypotheses:\n",
    "\n",
    "The null hypothesis (H0): µ1 = µ2 = µ3 (the population means are all equal)\n",
    "\n",
    "The alternative hypothesis: (Ha): at least one population mean is different from the rest\n",
    "\n",
    "In this example, the F test-statistic is 24.7589 and the corresponding p-value is 0.0000. Since this p-value is less than 0.05, we reject the null hypothesis and conclude that there is a statistically significant difference in mean response times between the four drugs.\n",
    "\n",
    "## Report the results\n",
    "\n",
    "Lastly, we will report the results of our repeated measures ANOVA. Here is an example of how to do so:\n",
    "\n",
    "A one-way repeated measures ANOVA was conducted on 5 individuals to examine the effect that four different drugs had on response time.\n",
    "\n",
    "Results showed that the type of drug used lead to statistically significant differences in response time (F(3, 12) = 24.75887, p < 0.001)."
   ]
  },
  {
   "cell_type": "markdown",
   "id": "9c9b115d-e121-43c8-a8e2-512247442c0f",
   "metadata": {},
   "source": [
    "<hr style=\"height:10px;border-width:0;color:gray;background-color:gray\">\n",
    "\n",
    "# 5. Nonparametric Statistical Hypothesis Tests<a class=\"anchor\" id=\"PyStats_page_18\"></a>\n",
    "\n",
    "[Back to Top](#PyStats_toc)\n",
    "\n",
    "<hr style=\"height:10px;border-width:0;color:gray;background-color:gray\">"
   ]
  },
  {
   "cell_type": "markdown",
   "id": "360e6232-4a07-4ec6-81e3-6a1945cbc87f",
   "metadata": {},
   "source": [
    "<hr style=\"height:5px;border-width:0;color:gray;background-color:gray\">\n",
    "\n",
    "# Mann-Whitney U Test<a class=\"anchor\" id=\"PyStats_page_19\"></a>\n",
    "\n",
    "[Back to Top](#PyStats_toc)\n",
    "\n",
    "## Tests whether the distributions of two independent samples are equal or not.\n",
    "\n",
    "## Assumptions\n",
    "\n",
    "- Observations in each sample are independent and identically distributed (iid).\n",
    "- Observations in each sample can be ranked.\n",
    "\n",
    "## Interpretation\n",
    "\n",
    "- H0: the distributions of both samples are equal.\n",
    "- H1: the distributions of both samples are not equal.\n",
    "\n",
    "## References\n",
    "- [How to Calculate Nonparametric Statistical Hypothesis Tests in Python](https://machinelearningmastery.com/nonparametric-statistical-significance-tests-in-python/)\n",
    "- [scipy.stats.mannwhitneyu](https://docs.scipy.org/doc/scipy/reference/generated/scipy.stats.mannwhitneyu.html)\n",
    "- [Mann-Whitney U test on Wikipedia](https://en.wikipedia.org/wiki/Mann%E2%80%93Whitney_U_test)\n",
    "- [Wolfram](https://reference.wolfram.com/language/ref/MannWhitneyTest.html)"
   ]
  },
  {
   "cell_type": "code",
   "execution_count": 41,
   "id": "08fda39b-0beb-441a-a001-e2940d6109dd",
   "metadata": {},
   "outputs": [
    {
     "name": "stdout",
     "output_type": "stream",
     "text": [
      "stat=40.000, p=0.473\n",
      "Probably the same distribution\n"
     ]
    }
   ],
   "source": [
    "# Example of the Mann-Whitney U Test\n",
    "from scipy.stats import mannwhitneyu\n",
    "data1 = [0.873, 2.817, 0.121, -0.945, -0.055, -1.436, 0.360, -1.478, -1.637, -1.869]\n",
    "data2 = [1.142, -0.432, -0.938, -0.729, -0.846, -0.157, 0.500, 1.183, -1.075, -0.169]\n",
    "stat, p = mannwhitneyu(data1, data2)\n",
    "print('stat=%.3f, p=%.3f' % (stat, p))\n",
    "if p > 0.05:\n",
    "\tprint('Probably the same distribution')\n",
    "else:\n",
    "\tprint('Probably different distributions')"
   ]
  },
  {
   "cell_type": "markdown",
   "id": "7c3a105a-3d37-4e39-8d64-7e64dd53b7d5",
   "metadata": {},
   "source": [
    "<hr style=\"height:5px;border-width:0;color:gray;background-color:gray\">\n",
    "\n",
    "# Wilcoxon Signed-Rank Test<a class=\"anchor\" id=\"PyStats_page_20\"></a>\n",
    "\n",
    "[Back to Top](#PyStats_toc)\n",
    "\n",
    "## Tests whether the distributions of two paired samples are equal or not.\n",
    "\n",
    "## Assumptions\n",
    "\n",
    "- Observations in each sample are independent and identically distributed (iid).\n",
    "- Observations in each sample can be ranked.\n",
    "- Observations across each sample are paired.\n",
    "\n",
    "## Interpretation\n",
    "\n",
    "- H0: the distributions of both samples are equal.\n",
    "- H1: the distributions of both samples are not equal.\n",
    "\n",
    "## References\n",
    "- [How to Calculate Nonparametric Statistical Hypothesis Tests in Python](https://machinelearningmastery.com/nonparametric-statistical-significance-tests-in-python/)\n",
    "- [scipy.stats.wilcoxon](https://docs.scipy.org/doc/scipy/reference/generated/scipy.stats.wilcoxon.html)\n",
    "- [Wilcoxon signed-rank test on Wikipedia](https://en.wikipedia.org/wiki/Wilcoxon_signed-rank_test)\n",
    "- [Wolfram](https://mathworld.wolfram.com/WilcoxonSignedRankTest.html)"
   ]
  },
  {
   "cell_type": "code",
   "execution_count": 42,
   "id": "205e8ba7-f38e-422b-b8e6-659843ee607b",
   "metadata": {},
   "outputs": [
    {
     "name": "stdout",
     "output_type": "stream",
     "text": [
      "stat=21.000, p=0.557\n",
      "Probably the same distribution\n"
     ]
    }
   ],
   "source": [
    "# Example of the Wilcoxon Signed-Rank Test\n",
    "from scipy.stats import wilcoxon\n",
    "data1 = [0.873, 2.817, 0.121, -0.945, -0.055, -1.436, 0.360, -1.478, -1.637, -1.869]\n",
    "data2 = [1.142, -0.432, -0.938, -0.729, -0.846, -0.157, 0.500, 1.183, -1.075, -0.169]\n",
    "stat, p = wilcoxon(data1, data2)\n",
    "print('stat=%.3f, p=%.3f' % (stat, p))\n",
    "if p > 0.05:\n",
    "\tprint('Probably the same distribution')\n",
    "else:\n",
    "\tprint('Probably different distributions')"
   ]
  },
  {
   "cell_type": "markdown",
   "id": "0f6303ea-ea2a-4074-a887-f5b4ad250869",
   "metadata": {},
   "source": [
    "<hr style=\"height:5px;border-width:0;color:gray;background-color:gray\">\n",
    "\n",
    "# Kruskal-Wallis H Test<a class=\"anchor\" id=\"PyStats_page_21\"></a>\n",
    "\n",
    "[Back to Top](#PyStats_toc)\n",
    "\n",
    "## Tests whether the distributions of two or more independent samples are equal or not.\n",
    "\n",
    "## Assumptions\n",
    "\n",
    "- Observations in each sample are independent and identically distributed (iid).\n",
    "- Observations in each sample can be ranked.\n",
    "\n",
    "## Interpretation\n",
    "\n",
    "- H0: the distributions of all samples are equal.\n",
    "- H1: the distributions of one or more samples are not equal.\n",
    "\n",
    "## References\n",
    "- [How to Calculate Nonparametric Statistical Hypothesis Tests in Python](https://machinelearningmastery.com/nonparametric-statistical-significance-tests-in-python/)\n",
    "- [scipy.stats.kruskal](https://docs.scipy.org/doc/scipy/reference/generated/scipy.stats.kruskal.html)\n",
    "- [Kruskal-Wallis one-way analysis of variance on Wikipedia](https://en.wikipedia.org/wiki/Kruskal%E2%80%93Wallis_one-way_analysis_of_variance)\n",
    "- [Wolfram](https://mathworld.wolfram.com/Kruskal-WallisTest.html)"
   ]
  },
  {
   "cell_type": "code",
   "execution_count": 43,
   "id": "6ec2feef-5e79-45ba-995e-b32664e8c361",
   "metadata": {},
   "outputs": [
    {
     "name": "stdout",
     "output_type": "stream",
     "text": [
      "stat=0.571, p=0.450\n",
      "Probably the same distribution\n"
     ]
    }
   ],
   "source": [
    "# Example of the Kruskal-Wallis H Test\n",
    "from scipy.stats import kruskal\n",
    "data1 = [0.873, 2.817, 0.121, -0.945, -0.055, -1.436, 0.360, -1.478, -1.637, -1.869]\n",
    "data2 = [1.142, -0.432, -0.938, -0.729, -0.846, -0.157, 0.500, 1.183, -1.075, -0.169]\n",
    "stat, p = kruskal(data1, data2)\n",
    "print('stat=%.3f, p=%.3f' % (stat, p))\n",
    "if p > 0.05:\n",
    "\tprint('Probably the same distribution')\n",
    "else:\n",
    "\tprint('Probably different distributions')"
   ]
  },
  {
   "cell_type": "markdown",
   "id": "eeb4052c-f977-4c2b-a24f-c0ae2d2a98c9",
   "metadata": {},
   "source": [
    "<hr style=\"height:5px;border-width:0;color:gray;background-color:gray\">\n",
    "\n",
    "# Friedman Test<a class=\"anchor\" id=\"PyStats_page_22\"></a>\n",
    "\n",
    "[Back to Top](#PyStats_toc)\n",
    "\n",
    "## Tests whether the distributions of two or more paired samples are equal or not.\n",
    "\n",
    "## Assumptions\n",
    "\n",
    "- Observations in each sample are independent and identically distributed (iid).\n",
    "- Observations in each sample can be ranked.\n",
    "- Observations across each sample are paired.\n",
    "\n",
    "## Interpretation\n",
    "\n",
    "- H0: the distributions of all samples are equal.\n",
    "- H1: the distributions of one or more samples are not equal.\n",
    "\n",
    "## References\n",
    "- [How to Calculate Nonparametric Statistical Hypothesis Tests in Python](https://machinelearningmastery.com/nonparametric-statistical-significance-tests-in-python/)\n",
    "- [scipy.stats.friedmanchisquare](https://docs.scipy.org/doc/scipy/reference/generated/scipy.stats.kruskal.html)\n",
    "- [Friedman test on Wikipedia](https://en.wikipedia.org/wiki/Friedman_test)\n",
    "- [Wolfram](https://reference.wolfram.com/language/ref/LocationEquivalenceTest.html)"
   ]
  },
  {
   "cell_type": "code",
   "execution_count": 44,
   "id": "74f302a1-ff54-43b5-aaf5-b409ae56b95b",
   "metadata": {},
   "outputs": [
    {
     "name": "stdout",
     "output_type": "stream",
     "text": [
      "stat=0.800, p=0.670\n",
      "Probably the same distribution\n"
     ]
    }
   ],
   "source": [
    "# Example of the Friedman Test\n",
    "from scipy.stats import friedmanchisquare\n",
    "data1 = [0.873, 2.817, 0.121, -0.945, -0.055, -1.436, 0.360, -1.478, -1.637, -1.869]\n",
    "data2 = [1.142, -0.432, -0.938, -0.729, -0.846, -0.157, 0.500, 1.183, -1.075, -0.169]\n",
    "data3 = [-0.208, 0.696, 0.928, -1.148, -0.213, 0.229, 0.137, 0.269, -0.870, -1.204]\n",
    "stat, p = friedmanchisquare(data1, data2, data3)\n",
    "print('stat=%.3f, p=%.3f' % (stat, p))\n",
    "if p > 0.05:\n",
    "\tprint('Probably the same distribution')\n",
    "else:\n",
    "\tprint('Probably different distributions')"
   ]
  },
  {
   "cell_type": "markdown",
   "id": "f4a95ae7-278b-4ecd-9e3a-b01488d754ac",
   "metadata": {},
   "source": [
    "<hr style=\"height:10px;border-width:0;color:gray;background-color:gray\">\n",
    "\n",
    "# Further Reading\n",
    "\n",
    "[Back to Top](#PyStats_toc)\n",
    "\n",
    "- [A Gentle Introduction to Normality Tests in Python](https://machinelearningmastery.com/a-gentle-introduction-to-normality-tests-in-python/)\n",
    "- [How to Use Correlation to Understand the Relationship Between Variables](https://machinelearningmastery.com/how-to-use-correlation-to-understand-the-relationship-between-variables/)\n",
    "- [How to Use Parametric Statistical Significance Tests in Python](https://machinelearningmastery.com/parametric-statistical-significance-tests-in-python/)\n",
    "- [A Gentle Introduction to Statistical Hypothesis Tests](https://machinelearningmastery.com/statistical-hypothesis-tests/)"
   ]
  }
 ],
 "metadata": {
  "kernelspec": {
   "display_name": "Python 3 (ipykernel)",
   "language": "python",
   "name": "python3"
  },
  "language_info": {
   "codemirror_mode": {
    "name": "ipython",
    "version": 3
   },
   "file_extension": ".py",
   "mimetype": "text/x-python",
   "name": "python",
   "nbconvert_exporter": "python",
   "pygments_lexer": "ipython3",
   "version": "3.9.10"
  }
 },
 "nbformat": 4,
 "nbformat_minor": 5
}
