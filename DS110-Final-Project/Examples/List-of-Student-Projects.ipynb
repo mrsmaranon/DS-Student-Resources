{
 "cells": [
  {
   "cell_type": "markdown",
   "id": "4f009da2-526b-45fc-b8d6-e8d9e6549b0e",
   "metadata": {},
   "source": [
    "# List of Student Project Repos"
   ]
  },
  {
   "cell_type": "markdown",
   "id": "e675b1d9-5837-4b7b-9cab-9829d5c26e63",
   "metadata": {},
   "source": [
    "https://vimeo.com/showcase/8740303\n",
    "\n",
    "- Amazon Marketing Strategies [Github](https://github.com/seymaharslan/Final-Project), [Vimeo](https://vimeo.com/570088696)\n",
    "- Pulsar Prediction [Vimeo](https://vimeo.com/570490065)\n",
    "- What can be done with Data?  [Vimeo](https://vimeo.com/571867490)\n",
    "- Electric Vehicle Analysis [Vimeo](https://vimeo.com/571882384)\n",
    "- US Energy Industry [Vimeo](https://vimeo.com/573695871)\n",
    "- Crime Analysis [Vimeo](https://vimeo.com/586959396)\n",
    "- Drone Failure Prediction [Vimeo](https://vimeo.com/602099549)\n",
    "- Blockchain Scam Sense [Github](https://github.com/beautroxclair/ScamSense), [Vimeo](https://vimeo.com/640146342)\n",
    "- Home Solar Panel Analysis [Github](https://github.com/Claudy427/Final_Project), [Vimeo](https://vimeo.com/665773276)\n",
    "- Good Vibrations [Github](https://github.com/Nuevachimi/Spotify-Five-Year-Analysis-Project), [Vimeo](https://vimeo.com/672901078)\n",
    "- Sentiment Analysis Youtube comments [Github](https://github.com/jdickson207/final-project-) [Vimeo](https://vimeo.com/678862419)\n",
    "- Zillow Machine Learning [Github](https://github.com/M-arcy/Feb2022FinalProject) [Vimeo](https://vimeo.com/680143023)\n",
    "- Animal Shelter Trends [Github](https://github.com/ardita-m/Animal-Shelter-Analysis-Project) [Vimeo](https://vimeo.com/681061343)\n",
    "- The Power of Tropical Cyclones [Github]() [Vimeo](https://vimeo.com/681558422)\n",
    "\n"
   ]
  },
  {
   "cell_type": "code",
   "execution_count": null,
   "id": "dad16166-d3b9-4e42-873a-79c4a5befd72",
   "metadata": {},
   "outputs": [],
   "source": []
  }
 ],
 "metadata": {
  "kernelspec": {
   "display_name": "Python 3 (ipykernel)",
   "language": "python",
   "name": "python3"
  },
  "language_info": {
   "codemirror_mode": {
    "name": "ipython",
    "version": 3
   },
   "file_extension": ".py",
   "mimetype": "text/x-python",
   "name": "python",
   "nbconvert_exporter": "python",
   "pygments_lexer": "ipython3",
   "version": "3.10.2"
  }
 },
 "nbformat": 4,
 "nbformat_minor": 5
}
