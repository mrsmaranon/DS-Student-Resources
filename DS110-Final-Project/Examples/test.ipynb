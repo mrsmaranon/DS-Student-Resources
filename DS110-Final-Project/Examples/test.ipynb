{
 "cells": [
  {
   "cell_type": "markdown",
   "id": "d3b689d7-d524-4296-a548-30ed47dc7857",
   "metadata": {},
   "source": [
    "test"
   ]
  },
  {
   "cell_type": "markdown",
   "id": "2bf1824d-2e14-40ce-b7ca-afafec770673",
   "metadata": {},
   "source": [
    "# BIG TEST"
   ]
  },
  {
   "cell_type": "markdown",
   "id": "9dfab7a5-2324-499f-b60e-c6ea253989ab",
   "metadata": {},
   "source": [
    "<span style='background :yellow' >YELLOW TEST</span>"
   ]
  },
  {
   "cell_type": "code",
   "execution_count": null,
   "id": "ce666504-48b0-4b4a-bf1c-c053a8700da3",
   "metadata": {},
   "outputs": [],
   "source": []
  }
 ],
 "metadata": {
  "kernelspec": {
   "display_name": "Python 3 (ipykernel)",
   "language": "python",
   "name": "python3"
  },
  "language_info": {
   "codemirror_mode": {
    "name": "ipython",
    "version": 3
   },
   "file_extension": ".py",
   "mimetype": "text/x-python",
   "name": "python",
   "nbconvert_exporter": "python",
   "pygments_lexer": "ipython3",
   "version": "3.9.7"
  }
 },
 "nbformat": 4,
 "nbformat_minor": 5
}
